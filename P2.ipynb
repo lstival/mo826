{
  "cells": [
    {
      "cell_type": "markdown",
      "metadata": {
        "id": "view-in-github",
        "colab_type": "text"
      },
      "source": [
        "<a href=\"https://colab.research.google.com/github/lstival/mo826/blob/main/P2.ipynb\" target=\"_parent\"><img src=\"https://colab.research.google.com/assets/colab-badge.svg\" alt=\"Open In Colab\"/></a>"
      ]
    },
    {
      "cell_type": "markdown",
      "metadata": {
        "id": "uWLdoTqTfruJ"
      },
      "source": [
        "# Atividade P2 - Fabrício Ferreira da Silva RA: 231900 e Leandro Stival RA: 263013"
      ]
    },
    {
      "cell_type": "markdown",
      "metadata": {
        "id": "xapzp6G4ilnh"
      },
      "source": [
        "##Importar os dados dos pacientes"
      ]
    },
    {
      "cell_type": "markdown",
      "metadata": {
        "id": "cWKBvy33i8h1"
      },
      "source": [
        "O primeiro passo foi importar a biblioteca pandas, que é usada para manipular dados, e armazenar os arquivos que foram fornecidos que estão no formato CSV em variáveis, usando o comando read_CSV e colocando o caminho do arquivo desejado."
      ]
    },
    {
      "cell_type": "code",
      "execution_count": 1,
      "metadata": {
        "id": "5-by060pbUrJ"
      },
      "outputs": [],
      "source": [
        "#Ignorando alguns warnings\n",
        "import warnings\n",
        "from pandas.core.common import SettingWithCopyWarning\n",
        "warnings.simplefilter(action=\"ignore\", category=SettingWithCopyWarning)"
      ]
    },
    {
      "cell_type": "code",
      "execution_count": 2,
      "metadata": {
        "colab": {
          "base_uri": "https://localhost:8080/"
        },
        "id": "tLcLSOwIfiwJ",
        "outputId": "d8a45e84-2e30-4a83-9172-c64a38ebdbff"
      },
      "outputs": [
        {
          "output_type": "stream",
          "name": "stdout",
          "text": [
            "(55285, 15)\n",
            "(1121, 25)\n"
          ]
        }
      ],
      "source": [
        "import pandas as pd\n",
        "import numpy as np\n",
        "#Scenario 2\n",
        "encounters = pd.read_csv('https://raw.githubusercontent.com/santanche/lab2learn/master/data/synthea/scenario02/csv/encounters.csv')\n",
        "patients = pd.read_csv('https://raw.githubusercontent.com/santanche/lab2learn/master/data/synthea/scenario02/csv/patients.csv')\n",
        "# conditions = pd.read_csv('https://raw.githubusercontent.com/santanche/lab2learn/master/data/synthea/scenario02/csv/conditions.csv')\n",
        "# procedures = pd.read_csv('https://raw.githubusercontent.com/santanche/lab2learn/master/data/synthea/scenario02/csv/procedures.csv')\n",
        "print(np.shape(encounters))\n",
        "print(np.shape(patients))"
      ]
    },
    {
      "cell_type": "code",
      "execution_count": 2,
      "metadata": {
        "id": "BjHKMaYs00rP"
      },
      "outputs": [],
      "source": [
        ""
      ]
    },
    {
      "cell_type": "code",
      "execution_count": 3,
      "metadata": {
        "id": "P_QPh014mkXy"
      },
      "outputs": [],
      "source": [
        "encounters_death = encounters[(encounters['DESCRIPTION']=='Death Certification')]\n",
        "encounters_death.drop_duplicates(subset= \"Id\", keep= \"first\", inplace=True, ignore_index=True)\n",
        "# print(encounters_death)\n",
        "death_variants = encounters_death['REASONDESCRIPTION'].value_counts()\n",
        "# print(death_variants)\n",
        "# death_variants.to_csv('causas_morte.csv')"
      ]
    },
    {
      "cell_type": "code",
      "execution_count": 4,
      "metadata": {
        "id": "yo0JEHlxmlqz"
      },
      "outputs": [],
      "source": [
        "patients_death = patients.dropna(subset=['DEATHDATE'])\n",
        "patients_death = patients[patients['DEATHDATE'].notna()]\n",
        "patients_death.drop_duplicates(subset= \"Id\", keep= \"first\", inplace=True, ignore_index=True)\n",
        "# print(patients_death)"
      ]
    },
    {
      "cell_type": "code",
      "execution_count": 4,
      "metadata": {
        "id": "0MSZNaOiReU5"
      },
      "outputs": [],
      "source": [
        ""
      ]
    },
    {
      "cell_type": "markdown",
      "metadata": {
        "id": "qJQLjDBIRg8c"
      },
      "source": [
        "## Fatiando a base de dados\n",
        "Selecionado o top 10 doenças mais letais como foco do estudo, selecionando os pacientes que possuem ao menos um encontro com ela."
      ]
    },
    {
      "cell_type": "code",
      "execution_count": 5,
      "metadata": {
        "colab": {
          "base_uri": "https://localhost:8080/"
        },
        "id": "c_PTymK3Re0V",
        "outputId": "26751fec-a028-434d-88cb-936b6e504166"
      },
      "outputs": [
        {
          "output_type": "execute_result",
          "data": {
            "text/plain": [
              "array(['Sudden Cardiac Death', 'Myocardial Infarction',\n",
              "       'Chronic congestive heart failure (disorder)',\n",
              "       'Acute myeloid leukemia  disease (disorder)', 'Bullet wound',\n",
              "       'Cardiac Arrest', 'Pulmonary emphysema (disorder)',\n",
              "       'Concussion injury of brain', 'Pneumonia', 'Stroke'], dtype=object)"
            ]
          },
          "metadata": {},
          "execution_count": 5
        }
      ],
      "source": [
        "#Save the name of the diases that will be considered\n",
        "target_diases = death_variants[:10].index.values\n",
        "target_diases"
      ]
    },
    {
      "cell_type": "code",
      "execution_count": 6,
      "metadata": {
        "colab": {
          "base_uri": "https://localhost:8080/"
        },
        "id": "1QjD_v-tRfQ4",
        "outputId": "0cb23e73-b5fa-43f6-e89d-19158753e40d"
      },
      "outputs": [
        {
          "output_type": "stream",
          "name": "stdout",
          "text": [
            "Existem 1493 encontros com os diagnosticos selecionados.\n"
          ]
        }
      ],
      "source": [
        "#Encounter where the description is one of the target diases\n",
        "target_encounters = encounters[encounters['REASONDESCRIPTION'].apply(lambda x: x in target_diases)]\n",
        "# target_encounters.head()\n",
        "print(f\"Existem {target_encounters.index.size} encontros com os diagnosticos \\\n",
        "selecionados.\")"
      ]
    },
    {
      "cell_type": "code",
      "execution_count": 7,
      "metadata": {
        "colab": {
          "base_uri": "https://localhost:8080/"
        },
        "id": "e4ZlouutT2pM",
        "outputId": "5b37ba80-6389-4e7e-b72b-fb894053e012"
      },
      "outputs": [
        {
          "output_type": "stream",
          "name": "stdout",
          "text": [
            "Existem 235 pacientes que ao menos uma vez tiveram a ocorrência desse diagnostico.\n"
          ]
        }
      ],
      "source": [
        "#Pacientes com ao menos uma vez tiveram registrado com essa doença\n",
        "target_patients_ids = target_encounters['PATIENT'].drop_duplicates().values\n",
        "target_patients = patients[patients['Id'].apply(lambda x: x in target_patients_ids)]\n",
        "print(f\"Existem {target_patients.index.size} pacientes que ao menos uma vez \\\n",
        "tiveram a ocorrência desse diagnostico.\")"
      ]
    },
    {
      "cell_type": "code",
      "execution_count": 7,
      "metadata": {
        "id": "-JYUvgsCkUc0"
      },
      "outputs": [],
      "source": [
        ""
      ]
    },
    {
      "cell_type": "markdown",
      "metadata": {
        "id": "k-61nLLgkVZa"
      },
      "source": [
        "## Dataframe com os dados de interesse do paciente"
      ]
    },
    {
      "cell_type": "code",
      "execution_count": 8,
      "metadata": {
        "id": "0bqcc6UxkZX1"
      },
      "outputs": [],
      "source": [
        "#Dataframe com os dados que serão utilizados para ML\n",
        "df_interest_data = pd.DataFrame()\n",
        "#Inserindo o Id do paciente ao Dataframe\n",
        "df_interest_data['Id'] = target_patients.Id.values"
      ]
    },
    {
      "cell_type": "markdown",
      "metadata": {
        "id": "cXTOmKWdZo1o"
      },
      "source": [
        "## Selecionado e tratando as variáveis de interesse dos pacientes"
      ]
    },
    {
      "cell_type": "code",
      "execution_count": 9,
      "metadata": {
        "id": "7jiO-qu_aBG8"
      },
      "outputs": [],
      "source": [
        "def convert_2_datetime(column):\n",
        "  return pd.to_datetime(column).dt.tz_localize(None)"
      ]
    },
    {
      "cell_type": "code",
      "execution_count": 10,
      "metadata": {
        "id": "ir7YIL4JZnce"
      },
      "outputs": [],
      "source": [
        "target_encounters['START'] = convert_2_datetime(target_encounters['START'])\n",
        "target_patients['BIRTHDATE'] = convert_2_datetime(target_patients['BIRTHDATE'])"
      ]
    },
    {
      "cell_type": "markdown",
      "metadata": {
        "id": "e1tSE3KUejwU"
      },
      "source": [
        "### Cálculando a idade"
      ]
    },
    {
      "cell_type": "code",
      "execution_count": 11,
      "metadata": {
        "id": "7DUYmNoJT203"
      },
      "outputs": [],
      "source": [
        "start_encounter = convert_2_datetime(target_encounters.drop_duplicates(subset= \"PATIENT\", keep= \"last\")[\"START\"])"
      ]
    },
    {
      "cell_type": "code",
      "execution_count": 12,
      "metadata": {
        "id": "tMl9ZT2oT23-"
      },
      "outputs": [],
      "source": [
        "patient_ages = (start_encounter.values - target_patients['BIRTHDATE'].values).astype('timedelta64[Y]') / np.timedelta64(1, 'Y')"
      ]
    },
    {
      "cell_type": "code",
      "execution_count": 13,
      "metadata": {
        "id": "EqC3jIlUT27T"
      },
      "outputs": [],
      "source": [
        "#Inserindo a idade dos pacientes ao dataframe de interesse\n",
        "df_interest_data['age'] = patient_ages"
      ]
    },
    {
      "cell_type": "code",
      "execution_count": 14,
      "metadata": {
        "id": "_e6SKkkp6c_B"
      },
      "outputs": [],
      "source": [
        "df_interest_data['lat'] = target_patients[\"LAT\"]\n",
        "df_interest_data['lon'] = target_patients[\"LON\"]"
      ]
    },
    {
      "cell_type": "code",
      "execution_count": 15,
      "metadata": {
        "id": "oLNfO8SRmAn-"
      },
      "outputs": [],
      "source": [
        "death_dates = convert_2_datetime(target_patients['DEATHDATE'].fillna(0)).values"
      ]
    },
    {
      "cell_type": "markdown",
      "metadata": {
        "id": "GAtA7l7wkovM"
      },
      "source": [
        "## Criando variável alvo"
      ]
    },
    {
      "cell_type": "code",
      "execution_count": 16,
      "metadata": {
        "id": "Ew-p4uioniPg"
      },
      "outputs": [],
      "source": [
        "days_to_target = 15"
      ]
    },
    {
      "cell_type": "code",
      "execution_count": 17,
      "metadata": {
        "id": "du_wxre2jV3U"
      },
      "outputs": [],
      "source": [
        "df_interest_data[\"target\"] = (start_encounter.values - death_dates).astype('timedelta64[D]') / np.timedelta64(1, 'D') < days_to_target"
      ]
    },
    {
      "cell_type": "code",
      "execution_count": 18,
      "metadata": {
        "id": "s2Pd7RcOnPAV"
      },
      "outputs": [],
      "source": [
        "_, deaths = np.unique(df_interest_data[\"target\"], return_counts=True)"
      ]
    },
    {
      "cell_type": "code",
      "execution_count": 19,
      "metadata": {
        "id": "BtQ8kQhmoeQh"
      },
      "outputs": [],
      "source": [
        "df_interest_data['target'] = df_interest_data['target'].apply(lambda x: 1 if x is True else 0)"
      ]
    },
    {
      "cell_type": "code",
      "execution_count": 20,
      "metadata": {
        "colab": {
          "base_uri": "https://localhost:8080/"
        },
        "id": "qTE_irBLnPDc",
        "outputId": "4a071d0a-4c3d-4671-81e0-01b8f7c36624"
      },
      "outputs": [
        {
          "output_type": "stream",
          "name": "stdout",
          "text": [
            "O conjunto possui 146 pacientes que não morreram em 15 dias após o evento, e 89 mortes antes dos 15 dias.\n"
          ]
        }
      ],
      "source": [
        "print(f\"O conjunto possui {deaths[0]} pacientes que não morreram em \\\n",
        "{days_to_target} dias após o evento, e {deaths[1]} mortes antes dos {days_to_target} dias.\")"
      ]
    },
    {
      "cell_type": "markdown",
      "metadata": {
        "id": "TjNw3ABqjWHW"
      },
      "source": [
        "## Prevendo se o paciente irá morrer"
      ]
    },
    {
      "cell_type": "code",
      "execution_count": 21,
      "metadata": {
        "id": "FynbCB8ijbs6"
      },
      "outputs": [],
      "source": [
        "#Modelo de regressão logística\n",
        "from sklearn.linear_model import LogisticRegression\n",
        "\n",
        "#Criando treino e teste\n",
        "from sklearn.model_selection import train_test_split\n",
        "\n",
        "#Avalição do modelo\n",
        "from sklearn.metrics import confusion_matrix\n",
        "from sklearn.metrics import balanced_accuracy_score"
      ]
    },
    {
      "cell_type": "code",
      "execution_count": 22,
      "metadata": {
        "id": "M3Z95AFfjbwG"
      },
      "outputs": [],
      "source": [
        "df_interest_data.dropna(inplace=True)\n",
        "train, test = train_test_split(df_interest_data, train_size=0.7, stratify=df_interest_data['target'], random_state=2022)"
      ]
    },
    {
      "cell_type": "code",
      "execution_count": 23,
      "metadata": {
        "id": "VC2mcLvuAFAG"
      },
      "outputs": [],
      "source": [
        "def predict_values(cls, X, y):\n",
        "  \"\"\"\n",
        "  Função responsável por realizar a predição de um modelo, e retorna\n",
        "  a accurácia, uma lista com a matriz da confusão e accurácia balanceada.\n",
        "  \"\"\"\n",
        "  predicts = cls.predict(X)\n",
        "  score = cls.score(X, y)\n",
        "  tn, fp, fn, tp = confusion_matrix(y, predicts).ravel()\n",
        "  bl_acc = balanced_accuracy_score(y, predicts)\n",
        "\n",
        "  return round(score, 2), [tn, fp, fn, tp], round(bl_acc, 2)"
      ]
    },
    {
      "cell_type": "code",
      "execution_count": 24,
      "metadata": {
        "id": "T23Kr62djbyw"
      },
      "outputs": [],
      "source": [
        "X = train[['age','lat','lon']].values\n",
        "X = train[['age']].values\n",
        "y = train['target'].values"
      ]
    },
    {
      "cell_type": "code",
      "execution_count": 25,
      "metadata": {
        "id": "F3RwtFdKjb1X"
      },
      "outputs": [],
      "source": [
        "clf = LogisticRegression(random_state=2022).fit(X, y)"
      ]
    },
    {
      "cell_type": "markdown",
      "metadata": {
        "id": "pQpVjnBd-TkX"
      },
      "source": [
        "## Testando o modelo"
      ]
    },
    {
      "cell_type": "code",
      "execution_count": 26,
      "metadata": {
        "id": "yIcH4LiN-WDD"
      },
      "outputs": [],
      "source": [
        "# X_test = test[['age','lat','lon']].values\n",
        "X_test = test[['age']].values\n",
        "y_test = test['target'].values"
      ]
    },
    {
      "cell_type": "code",
      "execution_count": 27,
      "metadata": {
        "id": "i8c45raGqxjS"
      },
      "outputs": [],
      "source": [
        "acc, confusion, bl_acc = predict_values(clf, X, y)"
      ]
    },
    {
      "cell_type": "code",
      "execution_count": 28,
      "metadata": {
        "colab": {
          "base_uri": "https://localhost:8080/"
        },
        "id": "Z9AgV5MRqxm2",
        "outputId": "7e9ed52d-6b90-407d-839b-16489ffda203"
      },
      "outputs": [
        {
          "output_type": "stream",
          "name": "stdout",
          "text": [
            "Acurácia do classificador é 0.69 e a balanceada é 0.59\n"
          ]
        }
      ],
      "source": [
        "print(f\"Acurácia do classificador é {acc} e a balanceada é {bl_acc}\")"
      ]
    },
    {
      "cell_type": "code",
      "execution_count": 29,
      "metadata": {
        "colab": {
          "base_uri": "https://localhost:8080/"
        },
        "id": "WVM-r8qQ2qDB",
        "outputId": "dac8357f-fc7c-4eda-8a01-320c8358d82c"
      },
      "outputs": [
        {
          "output_type": "execute_result",
          "data": {
            "text/plain": [
              "array([[19,  2],\n",
              "       [ 8,  3]])"
            ]
          },
          "metadata": {},
          "execution_count": 29
        }
      ],
      "source": [
        "#tn, fp, fn, tp\n",
        "np.reshape(confusion, [2,2])"
      ]
    },
    {
      "cell_type": "code",
      "execution_count": 29,
      "metadata": {
        "id": "AnqbdgomeYBY"
      },
      "outputs": [],
      "source": [
        ""
      ]
    },
    {
      "cell_type": "markdown",
      "metadata": {
        "id": "EZ5HWIf82rLW"
      },
      "source": [
        "## Outro classificador"
      ]
    },
    {
      "cell_type": "code",
      "execution_count": 30,
      "metadata": {
        "id": "jt-hTJeI2u24"
      },
      "outputs": [],
      "source": [
        "import xgboost as xgb\n",
        "from sklearn.metrics import accuracy_score"
      ]
    },
    {
      "cell_type": "code",
      "execution_count": 31,
      "metadata": {
        "id": "ZosBZDvx2u6y"
      },
      "outputs": [],
      "source": [
        "xgb_cl = xgb.XGBClassifier()"
      ]
    },
    {
      "cell_type": "code",
      "execution_count": 32,
      "metadata": {
        "colab": {
          "base_uri": "https://localhost:8080/"
        },
        "id": "q7-_pP-y2u_S",
        "outputId": "727bb3c5-0e63-40be-851d-1d7cbe3b40c2"
      },
      "outputs": [
        {
          "output_type": "execute_result",
          "data": {
            "text/plain": [
              "XGBClassifier()"
            ]
          },
          "metadata": {},
          "execution_count": 32
        }
      ],
      "source": [
        "xgb_cl.fit(X, y)"
      ]
    },
    {
      "cell_type": "code",
      "execution_count": 33,
      "metadata": {
        "colab": {
          "base_uri": "https://localhost:8080/"
        },
        "id": "y4UgPf5eA1fz",
        "outputId": "87f30d1b-86ba-43f8-cde0-a5aebb8505fb"
      },
      "outputs": [
        {
          "output_type": "stream",
          "name": "stdout",
          "text": [
            "Acurácia do classificador é 0.8 e a balanceada é 0.7\n"
          ]
        },
        {
          "output_type": "execute_result",
          "data": {
            "text/plain": [
              "array([[10,  0],\n",
              "       [ 3,  2]])"
            ]
          },
          "metadata": {},
          "execution_count": 33
        }
      ],
      "source": [
        "acc, confusion, bl_acc = predict_values(xgb_cl, X_test, y_test)\n",
        "\n",
        "print(f\"Acurácia do classificador é {acc} e a balanceada é {bl_acc}\")\n",
        "\n",
        "#tn, fp, fn, tp\n",
        "np.reshape(confusion, [2,2])"
      ]
    },
    {
      "cell_type": "code",
      "execution_count": 33,
      "metadata": {
        "id": "AH4vgLGrA1jD"
      },
      "outputs": [],
      "source": [
        ""
      ]
    },
    {
      "cell_type": "code",
      "execution_count": 33,
      "metadata": {
        "id": "e9JBsc1xBBP7"
      },
      "outputs": [],
      "source": [
        ""
      ]
    },
    {
      "cell_type": "markdown",
      "metadata": {
        "id": "vNsbyuZxkJgs"
      },
      "source": [
        "# Conjunto de dados 01"
      ]
    },
    {
      "cell_type": "code",
      "execution_count": 34,
      "metadata": {
        "colab": {
          "base_uri": "https://localhost:8080/"
        },
        "id": "SQ73Vp5OkNUA",
        "outputId": "8c397c70-fd1a-45b5-f912-46668ad15b8d"
      },
      "outputs": [
        {
          "output_type": "stream",
          "name": "stdout",
          "text": [
            "(59481, 15)\n",
            "(1174, 25)\n"
          ]
        }
      ],
      "source": [
        "encounters1 = pd.read_csv('https://raw.githubusercontent.com/santanche/lab2learn/master/data/synthea/scenario01/csv/encounters.csv')\n",
        "patients1 = pd.read_csv('https://raw.githubusercontent.com/santanche/lab2learn/master/data/synthea/scenario01/csv/patients.csv')\n",
        "\n",
        "print(np.shape(encounters1))\n",
        "print(np.shape(patients1))"
      ]
    },
    {
      "cell_type": "code",
      "execution_count": 35,
      "metadata": {
        "id": "m97bhhRQkNW_"
      },
      "outputs": [],
      "source": [
        "encounters_death1 = encounters1[(encounters1['DESCRIPTION']=='Death Certification')]\n",
        "encounters_death1.drop_duplicates(subset= \"Id\", keep= \"first\", inplace=True, ignore_index=True)\n",
        "# print(encounters_death)\n",
        "death_variants1 = encounters_death1['REASONDESCRIPTION'].value_counts()\n",
        "# print(death_variants)\n",
        "# death_variants.to_csv('causas_morte_01.csv')"
      ]
    },
    {
      "cell_type": "code",
      "execution_count": 35,
      "metadata": {
        "id": "l83q1zl5kNZx"
      },
      "outputs": [],
      "source": [
        ""
      ]
    },
    {
      "cell_type": "code",
      "execution_count": 36,
      "metadata": {
        "id": "FYeLvSu3ni1V"
      },
      "outputs": [],
      "source": [
        "patients_death1 = patients1.dropna(subset=['DEATHDATE'])\n",
        "patients_death1 = patients1[patients1['DEATHDATE'].notna()]\n",
        "patients_death1.drop_duplicates(subset= \"Id\", keep= \"first\", inplace=True, ignore_index=True)\n",
        "# print(patients_death1)"
      ]
    },
    {
      "cell_type": "code",
      "execution_count": 36,
      "metadata": {
        "id": "UrgJ5Ltzni1f"
      },
      "outputs": [],
      "source": [
        ""
      ]
    },
    {
      "cell_type": "markdown",
      "metadata": {
        "id": "sWG9ZMWmni1g"
      },
      "source": [
        "## Fatiando a base de dados\n",
        "Selecionado o top 10 doenças mais letais como foco do estudo, selecionando os pacientes que possuem ao menos um encontro com ela."
      ]
    },
    {
      "cell_type": "code",
      "execution_count": 37,
      "metadata": {
        "colab": {
          "base_uri": "https://localhost:8080/"
        },
        "id": "Fi0rRPoFni1g",
        "outputId": "8de15304-232e-4690-e095-7ad083d86983"
      },
      "outputs": [
        {
          "output_type": "execute_result",
          "data": {
            "text/plain": [
              "array(['Acute myeloid leukemia  disease (disorder)',\n",
              "       'Myocardial Infarction',\n",
              "       'Chronic congestive heart failure (disorder)', 'Pneumonia',\n",
              "       'Sudden Cardiac Death', 'Non-small cell lung cancer (disorder)',\n",
              "       'Stroke', 'Bullet wound', 'COVID-19',\n",
              "       'Chronic obstructive bronchitis (disorder)'], dtype=object)"
            ]
          },
          "metadata": {},
          "execution_count": 37
        }
      ],
      "source": [
        "#Save the name of the diases that will be considered\n",
        "target_diases1 = death_variants1[:10].index.values\n",
        "target_diases1"
      ]
    },
    {
      "cell_type": "code",
      "execution_count": 38,
      "metadata": {
        "colab": {
          "base_uri": "https://localhost:8080/"
        },
        "id": "WmvJfHZHni1g",
        "outputId": "9618fde6-8192-47ed-d689-4730289b28d0"
      },
      "outputs": [
        {
          "output_type": "stream",
          "name": "stdout",
          "text": [
            "Existem 1032 encontros com os diagnosticos selecionados.\n"
          ]
        }
      ],
      "source": [
        "#Encounter where the description is one of the target diases\n",
        "target_encounters1 = encounters1[encounters1['REASONDESCRIPTION'].apply(lambda x: x in target_diases)]\n",
        "# target_encounters.head()\n",
        "print(f\"Existem {target_encounters1.index.size} encontros com os diagnosticos \\\n",
        "selecionados.\")"
      ]
    },
    {
      "cell_type": "code",
      "execution_count": 39,
      "metadata": {
        "colab": {
          "base_uri": "https://localhost:8080/"
        },
        "id": "0seaPc1rni1h",
        "outputId": "76b71821-084f-40a4-f9f2-94e31673bf1b"
      },
      "outputs": [
        {
          "output_type": "stream",
          "name": "stdout",
          "text": [
            "Existem 267 pacientes que ao menos uma vez tiveram a ocorrência desse diagnostico.\n"
          ]
        }
      ],
      "source": [
        "#Pacientes com ao menos uma vez tiveram registrado com essa doença\n",
        "target_patients_ids1 = target_encounters1['PATIENT'].drop_duplicates().values\n",
        "target_patients1 = patients1[patients1['Id'].apply(lambda x: x in target_patients_ids1)]\n",
        "print(f\"Existem {target_patients1.index.size} pacientes que ao menos uma vez \\\n",
        "tiveram a ocorrência desse diagnostico.\")"
      ]
    },
    {
      "cell_type": "code",
      "execution_count": 39,
      "metadata": {
        "id": "MpZi55qpni1h"
      },
      "outputs": [],
      "source": [
        ""
      ]
    },
    {
      "cell_type": "markdown",
      "metadata": {
        "id": "-i-MXqC0ni1h"
      },
      "source": [
        "## Dataframe com os dados de interesse do paciente"
      ]
    },
    {
      "cell_type": "code",
      "execution_count": 40,
      "metadata": {
        "id": "ygYWgjS2ni1h"
      },
      "outputs": [],
      "source": [
        "#Dataframe com os dados que serão utilizados para ML\n",
        "df_interest_data1 = pd.DataFrame()\n",
        "#Inserindo o Id do paciente ao Dataframe\n",
        "df_interest_data1['Id'] = target_patients1.Id.values"
      ]
    },
    {
      "cell_type": "markdown",
      "metadata": {
        "id": "sCn_PDkani1i"
      },
      "source": [
        "## Selecionado e tratando as variáveis de interesse dos pacientes"
      ]
    },
    {
      "cell_type": "code",
      "execution_count": 41,
      "metadata": {
        "id": "xQP28fmDni1i"
      },
      "outputs": [],
      "source": [
        "def convert_2_datetime(column):\n",
        "  return pd.to_datetime(column).dt.tz_localize(None)"
      ]
    },
    {
      "cell_type": "code",
      "execution_count": 42,
      "metadata": {
        "id": "l9THLJbBni1i"
      },
      "outputs": [],
      "source": [
        "target_encounters1['START'] = convert_2_datetime(target_encounters1['START'])\n",
        "target_patients1['BIRTHDATE'] = convert_2_datetime(target_patients1['BIRTHDATE'])"
      ]
    },
    {
      "cell_type": "markdown",
      "metadata": {
        "id": "lWeoJBc3ni1i"
      },
      "source": [
        "### Cálculando a idade"
      ]
    },
    {
      "cell_type": "code",
      "execution_count": 43,
      "metadata": {
        "id": "HjDPE6N_ni1j"
      },
      "outputs": [],
      "source": [
        "start_encounter1 = convert_2_datetime(target_encounters1.drop_duplicates(subset= \"PATIENT\", keep= \"last\")[\"START\"])"
      ]
    },
    {
      "cell_type": "code",
      "execution_count": 44,
      "metadata": {
        "id": "sBlrCMPrni1j"
      },
      "outputs": [],
      "source": [
        "patient_ages1 = (start_encounter1.values - target_patients1['BIRTHDATE'].values).astype('timedelta64[Y]') / np.timedelta64(1, 'Y')"
      ]
    },
    {
      "cell_type": "code",
      "execution_count": 45,
      "metadata": {
        "id": "2tRTWkY8ni1j"
      },
      "outputs": [],
      "source": [
        "#Inserindo a idade dos pacientes ao dataframe de interesse\n",
        "df_interest_data1['age'] = patient_ages1\n",
        "\n",
        "df_interest_data1['lat'] = target_patients1[\"LAT\"]\n",
        "df_interest_data1['lon'] = target_patients1[\"LON\"]"
      ]
    },
    {
      "cell_type": "code",
      "execution_count": 46,
      "metadata": {
        "id": "CvexGkxVni1j"
      },
      "outputs": [],
      "source": [
        "death_dates1 = convert_2_datetime(target_patients1['DEATHDATE'].fillna(0)).values"
      ]
    },
    {
      "cell_type": "markdown",
      "metadata": {
        "id": "sZMb3B9Lni1j"
      },
      "source": [
        "## Criando variável alvo"
      ]
    },
    {
      "cell_type": "code",
      "execution_count": 47,
      "metadata": {
        "id": "3ElO3WEvni1k"
      },
      "outputs": [],
      "source": [
        "days_to_target1 = 15"
      ]
    },
    {
      "cell_type": "code",
      "execution_count": 48,
      "metadata": {
        "id": "hBeX4gSCni1k"
      },
      "outputs": [],
      "source": [
        "df_interest_data1[\"target\"] = (start_encounter1.values - death_dates1).astype('timedelta64[D]') / np.timedelta64(1, 'D') < days_to_target1"
      ]
    },
    {
      "cell_type": "code",
      "execution_count": 49,
      "metadata": {
        "id": "5C2n8qooni1k"
      },
      "outputs": [],
      "source": [
        "_, deaths1 = np.unique(df_interest_data1[\"target\"], return_counts=True)"
      ]
    },
    {
      "cell_type": "code",
      "execution_count": 50,
      "metadata": {
        "id": "Nc5xiPSfni1k"
      },
      "outputs": [],
      "source": [
        "df_interest_data1['target'] = df_interest_data1['target'].apply(lambda x: 1 if x is True else 0)"
      ]
    },
    {
      "cell_type": "code",
      "execution_count": 51,
      "metadata": {
        "colab": {
          "base_uri": "https://localhost:8080/"
        },
        "id": "6nlW5X6Tni1k",
        "outputId": "d4714e8b-4826-45dc-abc8-d323a42554d0"
      },
      "outputs": [
        {
          "output_type": "stream",
          "name": "stdout",
          "text": [
            "O conjunto possui 167 pacientes que não morreram em 15 dias após o evento, e 100 mortes antes dos 15 dias.\n"
          ]
        }
      ],
      "source": [
        "print(f\"O conjunto possui {deaths1[0]} pacientes que não morreram em \\\n",
        "{days_to_target1} dias após o evento, e {deaths1[1]} mortes antes dos {days_to_target1} dias.\")"
      ]
    },
    {
      "cell_type": "markdown",
      "metadata": {
        "id": "9SGY_Rhmni1l"
      },
      "source": [
        "## Prevendo se o paciente irá morrer"
      ]
    },
    {
      "cell_type": "code",
      "execution_count": 52,
      "metadata": {
        "id": "P6uTqYjTni1l"
      },
      "outputs": [],
      "source": [
        "#Modelo de regressão logística\n",
        "from sklearn.linear_model import LogisticRegression\n",
        "\n",
        "#Criando treino e teste\n",
        "from sklearn.model_selection import train_test_split\n",
        "\n",
        "#Avalição do modelo\n",
        "from sklearn.metrics import confusion_matrix\n",
        "from sklearn.metrics import balanced_accuracy_score"
      ]
    },
    {
      "cell_type": "code",
      "execution_count": 53,
      "metadata": {
        "id": "iRbJnso29L_P"
      },
      "outputs": [],
      "source": [
        "df_interest_data1.dropna(inplace=True)"
      ]
    },
    {
      "cell_type": "code",
      "execution_count": 54,
      "metadata": {
        "id": "A36XxUBFni1l"
      },
      "outputs": [],
      "source": [
        "train1, test1 = train_test_split(df_interest_data1, train_size=0.7, stratify=df_interest_data1['target'], random_state=2022)"
      ]
    },
    {
      "cell_type": "code",
      "execution_count": 55,
      "metadata": {
        "id": "5MFZcSleni1l"
      },
      "outputs": [],
      "source": [
        "# X = train[['age','lat','lon']].values\n",
        "X1 = train1[['age']].values\n",
        "y1 = train1['target'].values"
      ]
    },
    {
      "cell_type": "code",
      "execution_count": 56,
      "metadata": {
        "id": "VacXemxF8jYZ"
      },
      "outputs": [],
      "source": [
        "clf1 = LogisticRegression(random_state=2022).fit(X1, y1)"
      ]
    },
    {
      "cell_type": "markdown",
      "metadata": {
        "id": "JezGuwzi8GEO"
      },
      "source": [
        "## Dados de teste"
      ]
    },
    {
      "cell_type": "code",
      "execution_count": 57,
      "metadata": {
        "id": "BNe4ppsxni1m"
      },
      "outputs": [],
      "source": [
        "# X_test = test[['age','lat','lon']].values\n",
        "X_test1 = test1[['age']].values\n",
        "y_test1 = test1['target'].values"
      ]
    },
    {
      "cell_type": "code",
      "execution_count": 58,
      "metadata": {
        "colab": {
          "base_uri": "https://localhost:8080/"
        },
        "id": "WRm2t6A2_YJi",
        "outputId": "ffd80991-7920-4644-bfcf-019a2b9ea329"
      },
      "outputs": [
        {
          "output_type": "stream",
          "name": "stdout",
          "text": [
            "Acurácia do classificador é 0.86 e a balanceada é 0.82\n"
          ]
        },
        {
          "output_type": "execute_result",
          "data": {
            "text/plain": [
              "array([[13,  1],\n",
              "       [ 2,  5]])"
            ]
          },
          "metadata": {},
          "execution_count": 58
        }
      ],
      "source": [
        "acc1, confusion1, bl_acc1 = predict_values(clf1, X_test1, y_test1)\n",
        "\n",
        "print(f\"Acurácia do classificador é {acc1} e a balanceada é {bl_acc1}\")\n",
        "\n",
        "#tn, fp, fn, tp\n",
        "np.reshape(confusion1, [2,2])"
      ]
    },
    {
      "cell_type": "markdown",
      "metadata": {
        "id": "EGyIM-Rtni1n"
      },
      "source": [
        "## Outro classificador"
      ]
    },
    {
      "cell_type": "code",
      "execution_count": 59,
      "metadata": {
        "id": "HgbwvpTZni1n"
      },
      "outputs": [],
      "source": [
        "import xgboost as xgb\n",
        "from sklearn.metrics import accuracy_score"
      ]
    },
    {
      "cell_type": "code",
      "execution_count": 60,
      "metadata": {
        "colab": {
          "base_uri": "https://localhost:8080/"
        },
        "id": "K9euY8xrni1n",
        "outputId": "3dac921e-7925-43fa-8697-2e1ef80960b8"
      },
      "outputs": [
        {
          "output_type": "execute_result",
          "data": {
            "text/plain": [
              "XGBClassifier()"
            ]
          },
          "metadata": {},
          "execution_count": 60
        }
      ],
      "source": [
        "xgb_cl1 = xgb.XGBClassifier()\n",
        "xgb_cl1.fit(X1, y1)"
      ]
    },
    {
      "cell_type": "code",
      "execution_count": 61,
      "metadata": {
        "colab": {
          "base_uri": "https://localhost:8080/"
        },
        "id": "XOz-OeiQBwCT",
        "outputId": "66a937cc-62c7-4d23-9857-3b42a4795b5e"
      },
      "outputs": [
        {
          "output_type": "stream",
          "name": "stdout",
          "text": [
            "Acurácia do classificador é 0.71 e a balanceada é 0.71\n"
          ]
        },
        {
          "output_type": "execute_result",
          "data": {
            "text/plain": [
              "array([[10,  4],\n",
              "       [ 2,  5]])"
            ]
          },
          "metadata": {},
          "execution_count": 61
        }
      ],
      "source": [
        "acc1, confusion1, bl_acc1 = predict_values(xgb_cl1, X_test1, y_test1)\n",
        "\n",
        "print(f\"Acurácia do classificador é {acc1} e a balanceada é {bl_acc1}\")\n",
        "\n",
        "#tn, fp, fn, tp\n",
        "np.reshape(confusion1, [2,2])"
      ]
    },
    {
      "cell_type": "markdown",
      "metadata": {
        "id": "gYHxJMeX_LU8"
      },
      "source": [
        "## Intercambinado classificadores \n",
        "#### (treinado em uma base testado na outra)"
      ]
    },
    {
      "cell_type": "code",
      "execution_count": 61,
      "metadata": {
        "id": "2aaD8isSkNid"
      },
      "outputs": [],
      "source": [
        ""
      ]
    },
    {
      "cell_type": "markdown",
      "source": [
        "## Treinado em 2 e testado em 1"
      ],
      "metadata": {
        "id": "UKYaIJbXk91N"
      }
    },
    {
      "cell_type": "code",
      "source": [
        "acc1, confusion1, bl_acc1 = predict_values(xgb_cl, X_test1, y_test1)\n",
        "\n",
        "print(f\"Acurácia do classificador é {acc1} e a balanceada é {bl_acc1}\")"
      ],
      "metadata": {
        "colab": {
          "base_uri": "https://localhost:8080/"
        },
        "id": "V1NhSB0WkqJy",
        "outputId": "6cee77ae-cd3a-493e-b607-92282cacfe96"
      },
      "execution_count": 62,
      "outputs": [
        {
          "output_type": "stream",
          "name": "stdout",
          "text": [
            "Acurácia do classificador é 0.81 e a balanceada é 0.79\n"
          ]
        }
      ]
    },
    {
      "cell_type": "code",
      "source": [
        "acc1, confusion1, bl_acc1 = predict_values(clf, X_test1, y_test1)\n",
        "\n",
        "print(f\"Acurácia do classificador é {acc1} e a balanceada é {bl_acc1}\")"
      ],
      "metadata": {
        "colab": {
          "base_uri": "https://localhost:8080/"
        },
        "id": "LbtBO-O2lB01",
        "outputId": "fea2fc91-a702-4c90-deef-612bcc8d0759"
      },
      "execution_count": 63,
      "outputs": [
        {
          "output_type": "stream",
          "name": "stdout",
          "text": [
            "Acurácia do classificador é 0.81 e a balanceada é 0.75\n"
          ]
        }
      ]
    },
    {
      "cell_type": "markdown",
      "source": [
        "## Treinado em 1 e testado em 2"
      ],
      "metadata": {
        "id": "cGYhbqDllEwn"
      }
    },
    {
      "cell_type": "code",
      "source": [
        "acc1, confusion1, bl_acc1 = predict_values(xgb_cl1, X_test, y_test)\n",
        "\n",
        "print(f\"Acurácia do classificador é {acc1} e a balanceada é {bl_acc1}\")"
      ],
      "metadata": {
        "colab": {
          "base_uri": "https://localhost:8080/"
        },
        "id": "LBpr3EB2kqMr",
        "outputId": "b6d684a8-3966-4f22-8926-63d852fbb360"
      },
      "execution_count": 64,
      "outputs": [
        {
          "output_type": "stream",
          "name": "stdout",
          "text": [
            "Acurácia do classificador é 0.67 e a balanceada é 0.6\n"
          ]
        }
      ]
    },
    {
      "cell_type": "code",
      "source": [
        "acc1, confusion1, bl_acc1 = predict_values(clf1, X_test, y_test)\n",
        "\n",
        "print(f\"Acurácia do classificador é {acc1} e a balanceada é {bl_acc1}\")"
      ],
      "metadata": {
        "colab": {
          "base_uri": "https://localhost:8080/"
        },
        "id": "dEtpupF8kw3o",
        "outputId": "83267e83-1102-4c50-da40-86fc20441d6a"
      },
      "execution_count": 65,
      "outputs": [
        {
          "output_type": "stream",
          "name": "stdout",
          "text": [
            "Acurácia do classificador é 0.8 e a balanceada é 0.7\n"
          ]
        }
      ]
    },
    {
      "cell_type": "code",
      "source": [
        ""
      ],
      "metadata": {
        "id": "mUqBtlOQkw8h"
      },
      "execution_count": 65,
      "outputs": []
    },
    {
      "cell_type": "code",
      "source": [
        ""
      ],
      "metadata": {
        "id": "TQ711RMFkxBR"
      },
      "execution_count": 65,
      "outputs": []
    }
  ],
  "metadata": {
    "colab": {
      "collapsed_sections": [],
      "name": "P2.ipynb",
      "provenance": [],
      "include_colab_link": true
    },
    "kernelspec": {
      "display_name": "Python 3",
      "name": "python3"
    },
    "language_info": {
      "name": "python"
    }
  },
  "nbformat": 4,
  "nbformat_minor": 0
}