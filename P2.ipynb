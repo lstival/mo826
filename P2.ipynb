{
  "nbformat": 4,
  "nbformat_minor": 0,
  "metadata": {
    "colab": {
      "name": "P2.ipynb",
      "provenance": [],
      "collapsed_sections": [],
      "include_colab_link": true
    },
    "kernelspec": {
      "name": "python3",
      "display_name": "Python 3"
    },
    "language_info": {
      "name": "python"
    }
  },
  "cells": [
    {
      "cell_type": "markdown",
      "metadata": {
        "id": "view-in-github",
        "colab_type": "text"
      },
      "source": [
        "<a href=\"https://colab.research.google.com/github/lstival/mo826/blob/main/P2.ipynb\" target=\"_parent\"><img src=\"https://colab.research.google.com/assets/colab-badge.svg\" alt=\"Open In Colab\"/></a>"
      ]
    },
    {
      "cell_type": "markdown",
      "source": [
        "# Atividade P2 - Fabrício Ferreira da Silva RA: 231900 e Leandro Stival RA: 263013"
      ],
      "metadata": {
        "id": "uWLdoTqTfruJ"
      }
    },
    {
      "cell_type": "markdown",
      "source": [
        "##Importar os dados dos pacientes"
      ],
      "metadata": {
        "id": "xapzp6G4ilnh"
      }
    },
    {
      "cell_type": "markdown",
      "source": [
        "O primeiro passo foi importar a biblioteca pandas, que é usada para manipular dados, e armazenar os arquivos que foram fornecidos que estão no formato CSV em variáveis, usando o comando read_CSV e colocando o caminho do arquivo desejado."
      ],
      "metadata": {
        "id": "cWKBvy33i8h1"
      }
    },
    {
      "cell_type": "code",
      "source": [
        "#Ignorando alguns warnings\n",
        "import warnings\n",
        "from pandas.core.common import SettingWithCopyWarning\n",
        "warnings.simplefilter(action=\"ignore\", category=SettingWithCopyWarning)"
      ],
      "metadata": {
        "id": "5-by060pbUrJ"
      },
      "execution_count": null,
      "outputs": []
    },
    {
      "cell_type": "code",
      "execution_count": null,
      "metadata": {
        "colab": {
          "base_uri": "https://localhost:8080/"
        },
        "id": "tLcLSOwIfiwJ",
        "outputId": "9c2a547a-b6ef-426c-e357-6a70532c5448"
      },
      "outputs": [
        {
          "output_type": "stream",
          "name": "stdout",
          "text": [
            "(55285, 15)\n",
            "(1121, 25)\n"
          ]
        }
      ],
      "source": [
        "import pandas as pd\n",
        "import numpy as np\n",
        "#Scenario 2\n",
        "encounters = pd.read_csv('https://raw.githubusercontent.com/santanche/lab2learn/master/data/synthea/scenario02/csv/encounters.csv')\n",
        "patients = pd.read_csv('https://raw.githubusercontent.com/santanche/lab2learn/master/data/synthea/scenario02/csv/patients.csv')\n",
        "# conditions = pd.read_csv('https://raw.githubusercontent.com/santanche/lab2learn/master/data/synthea/scenario02/csv/conditions.csv')\n",
        "# procedures = pd.read_csv('https://raw.githubusercontent.com/santanche/lab2learn/master/data/synthea/scenario02/csv/procedures.csv')\n",
        "print(np.shape(encounters))\n",
        "print(np.shape(patients))\n",
        "# print(np.shape(conditions))\n",
        "# print(np.shape(procedures))"
      ]
    },
    {
      "cell_type": "code",
      "source": [
        ""
      ],
      "metadata": {
        "id": "BjHKMaYs00rP"
      },
      "execution_count": null,
      "outputs": []
    },
    {
      "cell_type": "code",
      "source": [
        "encounters_death = encounters[(encounters['DESCRIPTION']=='Death Certification')]\n",
        "encounters_death.drop_duplicates(subset= \"Id\", keep= \"first\", inplace=True, ignore_index=True)\n",
        "# print(encounters_death)\n",
        "death_variants = encounters_death['REASONDESCRIPTION'].value_counts()\n",
        "# print(death_variants)\n",
        "# death_variants.to_csv('causas_morte.csv')"
      ],
      "metadata": {
        "id": "P_QPh014mkXy"
      },
      "execution_count": null,
      "outputs": []
    },
    {
      "cell_type": "code",
      "source": [
        "patients_death = patients.dropna(subset=['DEATHDATE'])\n",
        "patients_death = patients[patients['DEATHDATE'].notna()]\n",
        "patients_death.drop_duplicates(subset= \"Id\", keep= \"first\", inplace=True, ignore_index=True)\n",
        "# print(patients_death)"
      ],
      "metadata": {
        "id": "yo0JEHlxmlqz"
      },
      "execution_count": null,
      "outputs": []
    },
    {
      "cell_type": "code",
      "source": [
        ""
      ],
      "metadata": {
        "id": "0MSZNaOiReU5"
      },
      "execution_count": null,
      "outputs": []
    },
    {
      "cell_type": "markdown",
      "source": [
        "## Fatiando a base de dados\n",
        "Selecionado o top 10 doenças mais letais como foco do estudo, selecionando os pacientes que possuem ao menos um encontro com ela."
      ],
      "metadata": {
        "id": "qJQLjDBIRg8c"
      }
    },
    {
      "cell_type": "code",
      "source": [
        "#Save the name of the diases that will be considered\n",
        "target_diases = death_variants[:10].index.values\n",
        "target_diases"
      ],
      "metadata": {
        "colab": {
          "base_uri": "https://localhost:8080/"
        },
        "id": "c_PTymK3Re0V",
        "outputId": "52782ccc-dbda-4cbe-b935-06dc32123b19"
      },
      "execution_count": null,
      "outputs": [
        {
          "output_type": "execute_result",
          "data": {
            "text/plain": [
              "array(['Sudden Cardiac Death', 'Myocardial Infarction',\n",
              "       'Chronic congestive heart failure (disorder)',\n",
              "       'Acute myeloid leukemia  disease (disorder)', 'Bullet wound',\n",
              "       'Cardiac Arrest', 'Pulmonary emphysema (disorder)',\n",
              "       'Concussion injury of brain', 'Pneumonia', 'Stroke'], dtype=object)"
            ]
          },
          "metadata": {},
          "execution_count": 5
        }
      ]
    },
    {
      "cell_type": "code",
      "source": [
        "#Encounter where the description is one of the target diases\n",
        "target_encounters = encounters[encounters['REASONDESCRIPTION'].apply(lambda x: x in target_diases)]\n",
        "# target_encounters.head()\n",
        "print(f\"Existem {target_encounters.index.size} encontros com os diagnosticos \\\n",
        "selecionados.\")"
      ],
      "metadata": {
        "colab": {
          "base_uri": "https://localhost:8080/"
        },
        "id": "1QjD_v-tRfQ4",
        "outputId": "74e24aa8-46e3-4932-c90a-814ba9fa391a"
      },
      "execution_count": null,
      "outputs": [
        {
          "output_type": "stream",
          "name": "stdout",
          "text": [
            "Existem 1493 encontros com os diagnosticos selecionados.\n"
          ]
        }
      ]
    },
    {
      "cell_type": "code",
      "source": [
        "#Pacientes com ao menos uma vez tiveram registrado com essa doença\n",
        "target_patients_ids = target_encounters['PATIENT'].drop_duplicates().values\n",
        "target_patients = patients[patients['Id'].apply(lambda x: x in target_patients_ids)]\n",
        "print(f\"Existem {target_patients.index.size} pacientes que ao menos uma vez \\\n",
        "tiveram a ocorrência desse diagnostico.\")"
      ],
      "metadata": {
        "colab": {
          "base_uri": "https://localhost:8080/"
        },
        "id": "e4ZlouutT2pM",
        "outputId": "57a18a6a-8bdd-4b8d-b81c-fbc21d15f0ae"
      },
      "execution_count": null,
      "outputs": [
        {
          "output_type": "stream",
          "name": "stdout",
          "text": [
            "Existem 235 pacientes que ao menos uma vez tiveram a ocorrência desse diagnostico.\n"
          ]
        }
      ]
    },
    {
      "cell_type": "code",
      "source": [
        ""
      ],
      "metadata": {
        "id": "-JYUvgsCkUc0"
      },
      "execution_count": null,
      "outputs": []
    },
    {
      "cell_type": "markdown",
      "source": [
        "## Dataframe com os dados de interesse do paciente"
      ],
      "metadata": {
        "id": "k-61nLLgkVZa"
      }
    },
    {
      "cell_type": "code",
      "source": [
        "#Dataframe com os dados que serão utilizados para ML\n",
        "df_interest_data = pd.DataFrame()\n",
        "#Inserindo o Id do paciente ao Dataframe\n",
        "df_interest_data['Id'] = target_patients.Id.values"
      ],
      "metadata": {
        "id": "0bqcc6UxkZX1"
      },
      "execution_count": null,
      "outputs": []
    },
    {
      "cell_type": "markdown",
      "source": [
        "## Selecionado e tratando as variáveis de interesse dos pacientes"
      ],
      "metadata": {
        "id": "cXTOmKWdZo1o"
      }
    },
    {
      "cell_type": "code",
      "source": [
        "def convert_2_datetime(column):\n",
        "  return pd.to_datetime(column).dt.tz_localize(None)"
      ],
      "metadata": {
        "id": "7jiO-qu_aBG8"
      },
      "execution_count": null,
      "outputs": []
    },
    {
      "cell_type": "code",
      "source": [
        "target_encounters['START'] = convert_2_datetime(target_encounters['START'])\n",
        "target_patients['BIRTHDATE'] = convert_2_datetime(target_patients['BIRTHDATE'])"
      ],
      "metadata": {
        "id": "ir7YIL4JZnce"
      },
      "execution_count": null,
      "outputs": []
    },
    {
      "cell_type": "markdown",
      "source": [
        "### Cálculando a idade"
      ],
      "metadata": {
        "id": "e1tSE3KUejwU"
      }
    },
    {
      "cell_type": "code",
      "source": [
        "start_encounter = convert_2_datetime(target_encounters.drop_duplicates(subset= \"PATIENT\", keep= \"last\")[\"START\"])"
      ],
      "metadata": {
        "id": "7DUYmNoJT203"
      },
      "execution_count": null,
      "outputs": []
    },
    {
      "cell_type": "code",
      "source": [
        "patient_ages = (start_encounter.values - target_patients['BIRTHDATE'].values).astype('timedelta64[Y]') / np.timedelta64(1, 'Y')"
      ],
      "metadata": {
        "id": "tMl9ZT2oT23-"
      },
      "execution_count": null,
      "outputs": []
    },
    {
      "cell_type": "code",
      "source": [
        "#Inserindo a idade dos pacientes ao dataframe de interesse\n",
        "df_interest_data['age'] = patient_ages"
      ],
      "metadata": {
        "id": "EqC3jIlUT27T"
      },
      "execution_count": null,
      "outputs": []
    },
    {
      "cell_type": "code",
      "source": [
        "death_dates = convert_2_datetime(target_patients['DEATHDATE'].fillna(0)).values"
      ],
      "metadata": {
        "id": "oLNfO8SRmAn-"
      },
      "execution_count": null,
      "outputs": []
    },
    {
      "cell_type": "markdown",
      "source": [
        "## Criando variável alvo"
      ],
      "metadata": {
        "id": "GAtA7l7wkovM"
      }
    },
    {
      "cell_type": "code",
      "source": [
        "days_to_target = 15"
      ],
      "metadata": {
        "id": "Ew-p4uioniPg"
      },
      "execution_count": null,
      "outputs": []
    },
    {
      "cell_type": "code",
      "source": [
        "df_interest_data[\"target\"] = (start_encounter.values - death_dates).astype('timedelta64[D]') / np.timedelta64(1, 'D') < days_to_target"
      ],
      "metadata": {
        "id": "du_wxre2jV3U"
      },
      "execution_count": null,
      "outputs": []
    },
    {
      "cell_type": "code",
      "source": [
        "_, deaths = np.unique(df_interest_data[\"target\"], return_counts=True)"
      ],
      "metadata": {
        "id": "s2Pd7RcOnPAV"
      },
      "execution_count": null,
      "outputs": []
    },
    {
      "cell_type": "code",
      "source": [
        "df_interest_data['target'] = df_interest_data['target'].apply(lambda x: 1 if x is True else 0)"
      ],
      "metadata": {
        "id": "BtQ8kQhmoeQh"
      },
      "execution_count": null,
      "outputs": []
    },
    {
      "cell_type": "code",
      "source": [
        "print(f\"O conjunto possui {deaths[0]} pacientes que não morreram em \\\n",
        "{days_to_target} dias após o evento, e {deaths[1]} mortes antes dos {days_to_target} dias.\")"
      ],
      "metadata": {
        "colab": {
          "base_uri": "https://localhost:8080/"
        },
        "id": "qTE_irBLnPDc",
        "outputId": "9b42ba0d-2b04-4029-e471-c62a4b3ba48e"
      },
      "execution_count": null,
      "outputs": [
        {
          "output_type": "stream",
          "name": "stdout",
          "text": [
            "O conjunto possui 146 pacientes que não morreram em 15 dias após o evento, e 89 mortes antes dos 15 dias.\n"
          ]
        }
      ]
    },
    {
      "cell_type": "markdown",
      "source": [
        "## Prevendo se o paciente irá morrer"
      ],
      "metadata": {
        "id": "TjNw3ABqjWHW"
      }
    },
    {
      "cell_type": "code",
      "source": [
        "#Modelo de regressão logística\n",
        "from sklearn.linear_model import LogisticRegression\n",
        "\n",
        "#Criando treino e teste\n",
        "from sklearn.model_selection import train_test_split\n",
        "\n",
        "#Avalição do modelo\n",
        "from sklearn.metrics import confusion_matrix\n",
        "from sklearn.metrics import balanced_accuracy_score"
      ],
      "metadata": {
        "id": "FynbCB8ijbs6"
      },
      "execution_count": null,
      "outputs": []
    },
    {
      "cell_type": "code",
      "source": [
        "train, test = train_test_split(df_interest_data, train_size=0.7, stratify=df_interest_data['target'], random_state=2022)"
      ],
      "metadata": {
        "id": "M3Z95AFfjbwG"
      },
      "execution_count": null,
      "outputs": []
    },
    {
      "cell_type": "code",
      "source": [
        "X = train['age'].values\n",
        "X = np.array(X).reshape(-1, 1)\n",
        "y = train['target'].values"
      ],
      "metadata": {
        "id": "T23Kr62djbyw"
      },
      "execution_count": null,
      "outputs": []
    },
    {
      "cell_type": "code",
      "source": [
        "clf = LogisticRegression(random_state=2022).fit(X, y)"
      ],
      "metadata": {
        "id": "F3RwtFdKjb1X"
      },
      "execution_count": null,
      "outputs": []
    },
    {
      "cell_type": "code",
      "source": [
        "predicts = clf.predict(X)"
      ],
      "metadata": {
        "id": "i8c45raGqxjS"
      },
      "execution_count": null,
      "outputs": []
    },
    {
      "cell_type": "code",
      "source": [
        "clf.score(X, y)"
      ],
      "metadata": {
        "colab": {
          "base_uri": "https://localhost:8080/"
        },
        "id": "Z9AgV5MRqxm2",
        "outputId": "b4024557-8114-46a8-dcf2-fb0ed95ec96e"
      },
      "execution_count": null,
      "outputs": [
        {
          "output_type": "execute_result",
          "data": {
            "text/plain": [
              "0.725609756097561"
            ]
          },
          "metadata": {},
          "execution_count": 25
        }
      ]
    },
    {
      "cell_type": "code",
      "source": [
        "tn, fp, fn, tp = confusion_matrix(y, predicts).ravel()\n",
        "confusion_matrix(y, predicts)"
      ],
      "metadata": {
        "id": "WVM-r8qQ2qDB",
        "colab": {
          "base_uri": "https://localhost:8080/"
        },
        "outputId": "099e8036-dc4e-480c-c116-a11e6781dc07"
      },
      "execution_count": null,
      "outputs": [
        {
          "output_type": "execute_result",
          "data": {
            "text/plain": [
              "array([[93,  9],\n",
              "       [36, 26]])"
            ]
          },
          "metadata": {},
          "execution_count": 26
        }
      ]
    },
    {
      "cell_type": "code",
      "source": [
        "(tn, fp, fn, tp)"
      ],
      "metadata": {
        "colab": {
          "base_uri": "https://localhost:8080/"
        },
        "id": "KtPEjupseX-o",
        "outputId": "091b1d8e-59de-4b95-8779-fd695836e6ac"
      },
      "execution_count": null,
      "outputs": [
        {
          "output_type": "execute_result",
          "data": {
            "text/plain": [
              "(93, 9, 36, 26)"
            ]
          },
          "metadata": {},
          "execution_count": 27
        }
      ]
    },
    {
      "cell_type": "code",
      "source": [
        "balanced_accuracy_score(y, predicts)"
      ],
      "metadata": {
        "id": "AnqbdgomeYBY",
        "colab": {
          "base_uri": "https://localhost:8080/"
        },
        "outputId": "d1a78b31-66bb-4833-a15c-6e4eedacdfdd"
      },
      "execution_count": null,
      "outputs": [
        {
          "output_type": "execute_result",
          "data": {
            "text/plain": [
              "0.6655597722960152"
            ]
          },
          "metadata": {},
          "execution_count": 28
        }
      ]
    },
    {
      "cell_type": "markdown",
      "source": [
        "## Outro classificador"
      ],
      "metadata": {
        "id": "EZ5HWIf82rLW"
      }
    },
    {
      "cell_type": "code",
      "source": [
        "import xgboost as xgb\n",
        "from sklearn.metrics import accuracy_score"
      ],
      "metadata": {
        "id": "jt-hTJeI2u24"
      },
      "execution_count": null,
      "outputs": []
    },
    {
      "cell_type": "code",
      "source": [
        "xgb_cl = xgb.XGBClassifier()"
      ],
      "metadata": {
        "id": "ZosBZDvx2u6y"
      },
      "execution_count": null,
      "outputs": []
    },
    {
      "cell_type": "code",
      "source": [
        "xgb_cl.fit(X, y)"
      ],
      "metadata": {
        "colab": {
          "base_uri": "https://localhost:8080/"
        },
        "id": "q7-_pP-y2u_S",
        "outputId": "9e245ba6-661d-4f40-85ab-39d7ea9840b0"
      },
      "execution_count": null,
      "outputs": [
        {
          "output_type": "execute_result",
          "data": {
            "text/plain": [
              "XGBClassifier()"
            ]
          },
          "metadata": {},
          "execution_count": 31
        }
      ]
    },
    {
      "cell_type": "code",
      "source": [
        "preds = xgb_cl.predict(X)"
      ],
      "metadata": {
        "id": "1mbNajl12vDE"
      },
      "execution_count": null,
      "outputs": []
    },
    {
      "cell_type": "code",
      "source": [
        "accuracy_score(y, preds)"
      ],
      "metadata": {
        "colab": {
          "base_uri": "https://localhost:8080/"
        },
        "id": "c2x0AwDI2vGf",
        "outputId": "17567184-ad31-4885-89ea-b3554e9efa7d"
      },
      "execution_count": null,
      "outputs": [
        {
          "output_type": "execute_result",
          "data": {
            "text/plain": [
              "0.7804878048780488"
            ]
          },
          "metadata": {},
          "execution_count": 33
        }
      ]
    },
    {
      "cell_type": "code",
      "source": [
        "tn, fp, fn, tp = confusion_matrix(y, preds).ravel()\n",
        "confusion_matrix(y, preds)"
      ],
      "metadata": {
        "colab": {
          "base_uri": "https://localhost:8080/"
        },
        "id": "PxULYvUNeulN",
        "outputId": "0b65fdb7-5180-409e-d22a-6ee480b3019d"
      },
      "execution_count": null,
      "outputs": [
        {
          "output_type": "execute_result",
          "data": {
            "text/plain": [
              "array([[95,  7],\n",
              "       [29, 33]])"
            ]
          },
          "metadata": {},
          "execution_count": 34
        }
      ]
    },
    {
      "cell_type": "code",
      "source": [
        "(tn, fp, fn, tp)"
      ],
      "metadata": {
        "colab": {
          "base_uri": "https://localhost:8080/"
        },
        "id": "xSFfgHVWeuoZ",
        "outputId": "ac8b2e63-e650-4160-9d9b-acd2ac607745"
      },
      "execution_count": null,
      "outputs": [
        {
          "output_type": "execute_result",
          "data": {
            "text/plain": [
              "(95, 7, 29, 33)"
            ]
          },
          "metadata": {},
          "execution_count": 35
        }
      ]
    },
    {
      "cell_type": "code",
      "source": [
        "balanced_accuracy_score(y, preds)"
      ],
      "metadata": {
        "colab": {
          "base_uri": "https://localhost:8080/"
        },
        "id": "USFBZJvFKZMo",
        "outputId": "6eb96c09-c192-43cc-ea8a-e1d96779cb69"
      },
      "execution_count": null,
      "outputs": [
        {
          "output_type": "execute_result",
          "data": {
            "text/plain": [
              "0.7318153067678684"
            ]
          },
          "metadata": {},
          "execution_count": 36
        }
      ]
    },
    {
      "cell_type": "markdown",
      "source": [
        "# Conjunto de dados 01"
      ],
      "metadata": {
        "id": "vNsbyuZxkJgs"
      }
    },
    {
      "cell_type": "code",
      "source": [
        "encounters = pd.read_csv('https://raw.githubusercontent.com/santanche/lab2learn/master/data/synthea/scenario01/csv/encounters.csv')\n",
        "patients = pd.read_csv('https://raw.githubusercontent.com/santanche/lab2learn/master/data/synthea/scenario01/csv/patients.csv')\n",
        "\n",
        "print(np.shape(encounters))\n",
        "print(np.shape(patients))"
      ],
      "metadata": {
        "colab": {
          "base_uri": "https://localhost:8080/"
        },
        "id": "SQ73Vp5OkNUA",
        "outputId": "931cec43-3b0c-45d0-f199-bc58515b7a5f"
      },
      "execution_count": null,
      "outputs": [
        {
          "output_type": "stream",
          "name": "stdout",
          "text": [
            "(59481, 15)\n",
            "(1174, 25)\n"
          ]
        }
      ]
    },
    {
      "cell_type": "code",
      "source": [
        "encounters_death = encounters[(encounters['DESCRIPTION']=='Death Certification')]\n",
        "encounters_death.drop_duplicates(subset= \"Id\", keep= \"first\", inplace=True, ignore_index=True)\n",
        "# print(encounters_death)\n",
        "death_variants = encounters_death['REASONDESCRIPTION'].value_counts()\n",
        "# print(death_variants)\n",
        "# death_variants.to_csv('causas_morte_01.csv')"
      ],
      "metadata": {
        "id": "m97bhhRQkNW_"
      },
      "execution_count": null,
      "outputs": []
    },
    {
      "cell_type": "code",
      "source": [
        ""
      ],
      "metadata": {
        "id": "l83q1zl5kNZx"
      },
      "execution_count": null,
      "outputs": []
    },
    {
      "cell_type": "code",
      "source": [
        "patients_death = patients.dropna(subset=['DEATHDATE'])\n",
        "patients_death = patients[patients['DEATHDATE'].notna()]\n",
        "patients_death.drop_duplicates(subset= \"Id\", keep= \"first\", inplace=True, ignore_index=True)\n",
        "# print(patients_death)"
      ],
      "metadata": {
        "id": "FYeLvSu3ni1V"
      },
      "execution_count": null,
      "outputs": []
    },
    {
      "cell_type": "code",
      "source": [
        ""
      ],
      "metadata": {
        "id": "UrgJ5Ltzni1f"
      },
      "execution_count": null,
      "outputs": []
    },
    {
      "cell_type": "markdown",
      "source": [
        "## Fatiando a base de dados\n",
        "Selecionado o top 10 doenças mais letais como foco do estudo, selecionando os pacientes que possuem ao menos um encontro com ela."
      ],
      "metadata": {
        "id": "sWG9ZMWmni1g"
      }
    },
    {
      "cell_type": "code",
      "source": [
        "#Save the name of the diases that will be considered\n",
        "target_diases = death_variants[:10].index.values\n",
        "target_diases"
      ],
      "metadata": {
        "colab": {
          "base_uri": "https://localhost:8080/"
        },
        "outputId": "25e936d1-f3d3-4bf4-8a05-496dccbf2f04",
        "id": "Fi0rRPoFni1g"
      },
      "execution_count": null,
      "outputs": [
        {
          "output_type": "execute_result",
          "data": {
            "text/plain": [
              "array(['Acute myeloid leukemia  disease (disorder)',\n",
              "       'Myocardial Infarction',\n",
              "       'Chronic congestive heart failure (disorder)', 'Pneumonia',\n",
              "       'Sudden Cardiac Death', 'Non-small cell lung cancer (disorder)',\n",
              "       'Stroke', 'Bullet wound', 'COVID-19',\n",
              "       'Chronic obstructive bronchitis (disorder)'], dtype=object)"
            ]
          },
          "metadata": {},
          "execution_count": 40
        }
      ]
    },
    {
      "cell_type": "code",
      "source": [
        "#Encounter where the description is one of the target diases\n",
        "target_encounters = encounters[encounters['REASONDESCRIPTION'].apply(lambda x: x in target_diases)]\n",
        "# target_encounters.head()\n",
        "print(f\"Existem {target_encounters.index.size} encontros com os diagnosticos \\\n",
        "selecionados.\")"
      ],
      "metadata": {
        "colab": {
          "base_uri": "https://localhost:8080/"
        },
        "outputId": "ed72fa9b-b7ee-42c2-e049-51802e894786",
        "id": "WmvJfHZHni1g"
      },
      "execution_count": null,
      "outputs": [
        {
          "output_type": "stream",
          "name": "stdout",
          "text": [
            "Existem 1088 encontros com os diagnosticos selecionados.\n"
          ]
        }
      ]
    },
    {
      "cell_type": "code",
      "source": [
        "#Pacientes com ao menos uma vez tiveram registrado com essa doença\n",
        "target_patients_ids = target_encounters['PATIENT'].drop_duplicates().values\n",
        "target_patients = patients[patients['Id'].apply(lambda x: x in target_patients_ids)]\n",
        "print(f\"Existem {target_patients.index.size} pacientes que ao menos uma vez \\\n",
        "tiveram a ocorrência desse diagnostico.\")"
      ],
      "metadata": {
        "colab": {
          "base_uri": "https://localhost:8080/"
        },
        "outputId": "4d7338f8-e633-45a6-d9fb-6d1573c7275f",
        "id": "0seaPc1rni1h"
      },
      "execution_count": null,
      "outputs": [
        {
          "output_type": "stream",
          "name": "stdout",
          "text": [
            "Existem 287 pacientes que ao menos uma vez tiveram a ocorrência desse diagnostico.\n"
          ]
        }
      ]
    },
    {
      "cell_type": "code",
      "source": [
        ""
      ],
      "metadata": {
        "id": "MpZi55qpni1h"
      },
      "execution_count": null,
      "outputs": []
    },
    {
      "cell_type": "markdown",
      "source": [
        "## Dataframe com os dados de interesse do paciente"
      ],
      "metadata": {
        "id": "-i-MXqC0ni1h"
      }
    },
    {
      "cell_type": "code",
      "source": [
        "#Dataframe com os dados que serão utilizados para ML\n",
        "df_interest_data = pd.DataFrame()\n",
        "#Inserindo o Id do paciente ao Dataframe\n",
        "df_interest_data['Id'] = target_patients.Id.values"
      ],
      "metadata": {
        "id": "ygYWgjS2ni1h"
      },
      "execution_count": null,
      "outputs": []
    },
    {
      "cell_type": "markdown",
      "source": [
        "## Selecionado e tratando as variáveis de interesse dos pacientes"
      ],
      "metadata": {
        "id": "sCn_PDkani1i"
      }
    },
    {
      "cell_type": "code",
      "source": [
        "def convert_2_datetime(column):\n",
        "  return pd.to_datetime(column).dt.tz_localize(None)"
      ],
      "metadata": {
        "id": "xQP28fmDni1i"
      },
      "execution_count": null,
      "outputs": []
    },
    {
      "cell_type": "code",
      "source": [
        "target_encounters['START'] = convert_2_datetime(target_encounters['START'])\n",
        "target_patients['BIRTHDATE'] = convert_2_datetime(target_patients['BIRTHDATE'])"
      ],
      "metadata": {
        "id": "l9THLJbBni1i"
      },
      "execution_count": null,
      "outputs": []
    },
    {
      "cell_type": "markdown",
      "source": [
        "### Cálculando a idade"
      ],
      "metadata": {
        "id": "lWeoJBc3ni1i"
      }
    },
    {
      "cell_type": "code",
      "source": [
        "start_encounter = convert_2_datetime(target_encounters.drop_duplicates(subset= \"PATIENT\", keep= \"last\")[\"START\"])"
      ],
      "metadata": {
        "id": "HjDPE6N_ni1j"
      },
      "execution_count": null,
      "outputs": []
    },
    {
      "cell_type": "code",
      "source": [
        "patient_ages = (start_encounter.values - target_patients['BIRTHDATE'].values).astype('timedelta64[Y]') / np.timedelta64(1, 'Y')"
      ],
      "metadata": {
        "id": "sBlrCMPrni1j"
      },
      "execution_count": null,
      "outputs": []
    },
    {
      "cell_type": "code",
      "source": [
        "#Inserindo a idade dos pacientes ao dataframe de interesse\n",
        "df_interest_data['age'] = patient_ages"
      ],
      "metadata": {
        "id": "2tRTWkY8ni1j"
      },
      "execution_count": null,
      "outputs": []
    },
    {
      "cell_type": "code",
      "source": [
        "death_dates = convert_2_datetime(target_patients['DEATHDATE'].fillna(0)).values"
      ],
      "metadata": {
        "id": "CvexGkxVni1j"
      },
      "execution_count": null,
      "outputs": []
    },
    {
      "cell_type": "markdown",
      "source": [
        "## Criando variável alvo"
      ],
      "metadata": {
        "id": "sZMb3B9Lni1j"
      }
    },
    {
      "cell_type": "code",
      "source": [
        "days_to_target = 15"
      ],
      "metadata": {
        "id": "3ElO3WEvni1k"
      },
      "execution_count": null,
      "outputs": []
    },
    {
      "cell_type": "code",
      "source": [
        "df_interest_data[\"target\"] = (start_encounter.values - death_dates).astype('timedelta64[D]') / np.timedelta64(1, 'D') < days_to_target"
      ],
      "metadata": {
        "id": "hBeX4gSCni1k"
      },
      "execution_count": null,
      "outputs": []
    },
    {
      "cell_type": "code",
      "source": [
        "_, deaths = np.unique(df_interest_data[\"target\"], return_counts=True)"
      ],
      "metadata": {
        "id": "5C2n8qooni1k"
      },
      "execution_count": null,
      "outputs": []
    },
    {
      "cell_type": "code",
      "source": [
        "df_interest_data['target'] = df_interest_data['target'].apply(lambda x: 1 if x is True else 0)"
      ],
      "metadata": {
        "id": "Nc5xiPSfni1k"
      },
      "execution_count": null,
      "outputs": []
    },
    {
      "cell_type": "code",
      "source": [
        "print(f\"O conjunto possui {deaths[0]} pacientes que não morreram em \\\n",
        "{days_to_target} dias após o evento, e {deaths[1]} mortes antes dos {days_to_target} dias.\")"
      ],
      "metadata": {
        "colab": {
          "base_uri": "https://localhost:8080/"
        },
        "outputId": "a007bdac-272d-4f2e-c2a8-d1aa871d07d3",
        "id": "6nlW5X6Tni1k"
      },
      "execution_count": null,
      "outputs": [
        {
          "output_type": "stream",
          "name": "stdout",
          "text": [
            "O conjunto possui 181 pacientes que não morreram em 15 dias após o evento, e 106 mortes antes dos 15 dias.\n"
          ]
        }
      ]
    },
    {
      "cell_type": "markdown",
      "source": [
        "## Prevendo se o paciente irá morrer"
      ],
      "metadata": {
        "id": "9SGY_Rhmni1l"
      }
    },
    {
      "cell_type": "code",
      "source": [
        "#Modelo de regressão logística\n",
        "from sklearn.linear_model import LogisticRegression\n",
        "\n",
        "#Criando treino e teste\n",
        "from sklearn.model_selection import train_test_split\n",
        "\n",
        "#Avalição do modelo\n",
        "from sklearn.metrics import confusion_matrix\n",
        "from sklearn.metrics import balanced_accuracy_score"
      ],
      "metadata": {
        "id": "P6uTqYjTni1l"
      },
      "execution_count": null,
      "outputs": []
    },
    {
      "cell_type": "code",
      "source": [
        "train, test = train_test_split(df_interest_data, train_size=0.7, stratify=df_interest_data['target'], random_state=2022)"
      ],
      "metadata": {
        "id": "A36XxUBFni1l"
      },
      "execution_count": null,
      "outputs": []
    },
    {
      "cell_type": "code",
      "source": [
        "X = train['age'].values\n",
        "X = np.array(X).reshape(-1, 1)\n",
        "y = train['target'].values"
      ],
      "metadata": {
        "id": "5MFZcSleni1l"
      },
      "execution_count": null,
      "outputs": []
    },
    {
      "cell_type": "code",
      "source": [
        "clf1 = LogisticRegression(random_state=2022).fit(X, y)"
      ],
      "metadata": {
        "id": "BNe4ppsxni1m"
      },
      "execution_count": null,
      "outputs": []
    },
    {
      "cell_type": "code",
      "source": [
        "predicts1 = clf1.predict(X)"
      ],
      "metadata": {
        "id": "zvTT5pnJni1m"
      },
      "execution_count": null,
      "outputs": []
    },
    {
      "cell_type": "code",
      "source": [
        "clf1.score(X, y)"
      ],
      "metadata": {
        "colab": {
          "base_uri": "https://localhost:8080/"
        },
        "outputId": "90e4c7bf-5739-44fc-e4ec-33293e32ba87",
        "id": "-zC0X1kxni1m"
      },
      "execution_count": null,
      "outputs": [
        {
          "output_type": "execute_result",
          "data": {
            "text/plain": [
              "0.71"
            ]
          },
          "metadata": {},
          "execution_count": 60
        }
      ]
    },
    {
      "cell_type": "code",
      "source": [
        "tn, fp, fn, tp = confusion_matrix(y, predicts1).ravel()\n",
        "confusion_matrix(y, predicts1)"
      ],
      "metadata": {
        "colab": {
          "base_uri": "https://localhost:8080/"
        },
        "outputId": "aabbf72f-1643-4259-b168-ceb038ccc4d5",
        "id": "by8-eCSgni1m"
      },
      "execution_count": null,
      "outputs": [
        {
          "output_type": "execute_result",
          "data": {
            "text/plain": [
              "array([[106,  20],\n",
              "       [ 38,  36]])"
            ]
          },
          "metadata": {},
          "execution_count": 61
        }
      ]
    },
    {
      "cell_type": "code",
      "source": [
        "(tn, fp, fn, tp)"
      ],
      "metadata": {
        "colab": {
          "base_uri": "https://localhost:8080/"
        },
        "outputId": "ffc7ed66-fbad-4ca6-b4be-b011f80664f4",
        "id": "Fa37046oni1n"
      },
      "execution_count": null,
      "outputs": [
        {
          "output_type": "execute_result",
          "data": {
            "text/plain": [
              "(106, 20, 38, 36)"
            ]
          },
          "metadata": {},
          "execution_count": 62
        }
      ]
    },
    {
      "cell_type": "code",
      "source": [
        "balanced_accuracy_score(y, predicts1)"
      ],
      "metadata": {
        "colab": {
          "base_uri": "https://localhost:8080/"
        },
        "outputId": "21a1f42c-5a09-48c4-8d6f-13bc35827ad4",
        "id": "ZCj9LU64ni1n"
      },
      "execution_count": null,
      "outputs": [
        {
          "output_type": "execute_result",
          "data": {
            "text/plain": [
              "0.6638781638781639"
            ]
          },
          "metadata": {},
          "execution_count": 63
        }
      ]
    },
    {
      "cell_type": "markdown",
      "source": [
        "## Outro classificador"
      ],
      "metadata": {
        "id": "EGyIM-Rtni1n"
      }
    },
    {
      "cell_type": "code",
      "source": [
        "import xgboost as xgb\n",
        "from sklearn.metrics import accuracy_score"
      ],
      "metadata": {
        "id": "HgbwvpTZni1n"
      },
      "execution_count": null,
      "outputs": []
    },
    {
      "cell_type": "code",
      "source": [
        "xgb_cl1 = xgb.XGBClassifier()"
      ],
      "metadata": {
        "id": "K9euY8xrni1n"
      },
      "execution_count": null,
      "outputs": []
    },
    {
      "cell_type": "code",
      "source": [
        "xgb_cl1.fit(X, y)"
      ],
      "metadata": {
        "colab": {
          "base_uri": "https://localhost:8080/"
        },
        "outputId": "ae4dda19-5b85-428d-e78d-7af9e2bd1065",
        "id": "v8ickKyOni1o"
      },
      "execution_count": null,
      "outputs": [
        {
          "output_type": "execute_result",
          "data": {
            "text/plain": [
              "XGBClassifier()"
            ]
          },
          "metadata": {},
          "execution_count": 66
        }
      ]
    },
    {
      "cell_type": "code",
      "source": [
        "preds1 = xgb_cl1.predict(X)"
      ],
      "metadata": {
        "id": "cinJiEnZni1o"
      },
      "execution_count": null,
      "outputs": []
    },
    {
      "cell_type": "code",
      "source": [
        "accuracy_score(y, preds1)"
      ],
      "metadata": {
        "colab": {
          "base_uri": "https://localhost:8080/"
        },
        "outputId": "6486ceb0-b4b2-4a2d-995b-8e9b9e0dcc79",
        "id": "r66HWGKGni1o"
      },
      "execution_count": null,
      "outputs": [
        {
          "output_type": "execute_result",
          "data": {
            "text/plain": [
              "0.795"
            ]
          },
          "metadata": {},
          "execution_count": 68
        }
      ]
    },
    {
      "cell_type": "code",
      "source": [
        "tn1, fp1, fn1, tp1 = confusion_matrix(y, preds1).ravel()\n",
        "confusion_matrix(y, preds1)"
      ],
      "metadata": {
        "colab": {
          "base_uri": "https://localhost:8080/"
        },
        "outputId": "03c16d1a-f155-4e0f-b8c0-a02f80359439",
        "id": "myQrIW6Fni1o"
      },
      "execution_count": null,
      "outputs": [
        {
          "output_type": "execute_result",
          "data": {
            "text/plain": [
              "array([[116,  10],\n",
              "       [ 31,  43]])"
            ]
          },
          "metadata": {},
          "execution_count": 71
        }
      ]
    },
    {
      "cell_type": "code",
      "source": [
        "(tn1, fp1, fn1, tp1)"
      ],
      "metadata": {
        "colab": {
          "base_uri": "https://localhost:8080/"
        },
        "outputId": "762e8823-78d7-4be5-95c5-4567480f4d62",
        "id": "rFqdc_ARni1p"
      },
      "execution_count": null,
      "outputs": [
        {
          "output_type": "execute_result",
          "data": {
            "text/plain": [
              "(116, 10, 31, 43)"
            ]
          },
          "metadata": {},
          "execution_count": 72
        }
      ]
    },
    {
      "cell_type": "code",
      "source": [
        "balanced_accuracy_score(y, preds1)"
      ],
      "metadata": {
        "colab": {
          "base_uri": "https://localhost:8080/"
        },
        "outputId": "c2029242-1917-48ee-d42f-0703790c1f5e",
        "id": "FCzkzh7oni1p"
      },
      "execution_count": null,
      "outputs": [
        {
          "output_type": "execute_result",
          "data": {
            "text/plain": [
              "0.7508580008580008"
            ]
          },
          "metadata": {},
          "execution_count": 73
        }
      ]
    },
    {
      "cell_type": "code",
      "source": [
        ""
      ],
      "metadata": {
        "id": "EBRhAmI7kNcq"
      },
      "execution_count": null,
      "outputs": []
    },
    {
      "cell_type": "code",
      "source": [
        ""
      ],
      "metadata": {
        "id": "oMsOK4orkNfR"
      },
      "execution_count": null,
      "outputs": []
    },
    {
      "cell_type": "code",
      "source": [
        ""
      ],
      "metadata": {
        "id": "2aaD8isSkNid"
      },
      "execution_count": null,
      "outputs": []
    }
  ]
}