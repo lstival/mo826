{
 "cells": [
  {
   "cell_type": "markdown",
   "id": "7cbd8692",
   "metadata": {},
   "source": [
    "# Fabrício Ferreira da Silva RA: 231900 e Leandro Stival RA: 263013"
   ]
  },
  {
   "cell_type": "markdown",
   "id": "cb3d49ba",
   "metadata": {},
   "source": [
    "## Descrição\n",
    "Notebook contendo a criação de um SVM para classificar imagens de resonância em EM ou AVC, treinamento realizando com o conjunto gerado através das imagens fornecidas, que foram normalizadas utilizando uma quantização para 30 tons de cinza e posterioremente tiveram suas *features* extraídas de forma manual e salvas em arquivos *.csv* que foram carregados unidos, normalizados e separados em treino e validação.\n",
    "<br><br>\n",
    "O treinamento foi realizado utilizando o ajuste fino de parâmetros para criar o melhor modelo possível, e a sua avaliação com os dados de validação foi realizado com a acurácia balanceada junto de uma matriz de confusão."
   ]
  },
  {
   "cell_type": "code",
   "execution_count": 1,
   "id": "2eeabf89",
   "metadata": {},
   "outputs": [],
   "source": [
    "#Lib para importar o SVM\n",
    "from sklearn.svm import SVC\n",
    "#Lib para separar treino e validação\n",
    "from sklearn.model_selection import train_test_split\n",
    "\n",
    "#Libs para tratamento dos dados\n",
    "import pandas as pd\n",
    "import numpy as np\n",
    "import os"
   ]
  },
  {
   "cell_type": "markdown",
   "id": "71fa3840",
   "metadata": {},
   "source": [
    "## Lendo os dados"
   ]
  },
  {
   "cell_type": "code",
   "execution_count": 2,
   "id": "a7d9f237",
   "metadata": {},
   "outputs": [],
   "source": [
    "def normalize_df(df):\n",
    "    \"\"\"\n",
    "    Recebe um conjunto de dados e retorna o seu valor normalizado\n",
    "    \"\"\"\n",
    "    df_norm = (df-df.min())/(df.max()-df.min())\n",
    "    return df_norm"
   ]
  },
  {
   "cell_type": "markdown",
   "id": "ab19c3a1",
   "metadata": {},
   "source": [
    "### Conjunto de dados EM"
   ]
  },
  {
   "cell_type": "code",
   "execution_count": 3,
   "id": "01f831eb",
   "metadata": {},
   "outputs": [
    {
     "data": {
      "text/html": [
       "<div>\n",
       "<style scoped>\n",
       "    .dataframe tbody tr th:only-of-type {\n",
       "        vertical-align: middle;\n",
       "    }\n",
       "\n",
       "    .dataframe tbody tr th {\n",
       "        vertical-align: top;\n",
       "    }\n",
       "\n",
       "    .dataframe thead th {\n",
       "        text-align: right;\n",
       "    }\n",
       "</style>\n",
       "<table border=\"1\" class=\"dataframe\">\n",
       "  <thead>\n",
       "    <tr style=\"text-align: right;\">\n",
       "      <th></th>\n",
       "      <th>contrast</th>\n",
       "      <th>dissimilarity</th>\n",
       "      <th>homogeneity</th>\n",
       "      <th>ASM</th>\n",
       "      <th>energy</th>\n",
       "      <th>correlation</th>\n",
       "      <th>SRE</th>\n",
       "      <th>LRE</th>\n",
       "      <th>GLU</th>\n",
       "      <th>RLU</th>\n",
       "      <th>RPC</th>\n",
       "      <th>class</th>\n",
       "    </tr>\n",
       "  </thead>\n",
       "  <tbody>\n",
       "    <tr>\n",
       "      <th>0</th>\n",
       "      <td>1288.867496</td>\n",
       "      <td>12.202771</td>\n",
       "      <td>0.799151</td>\n",
       "      <td>0.361724</td>\n",
       "      <td>0.601435</td>\n",
       "      <td>0.718118</td>\n",
       "      <td>1.630</td>\n",
       "      <td>5629.021</td>\n",
       "      <td>7530.316</td>\n",
       "      <td>16462.360</td>\n",
       "      <td>23.716</td>\n",
       "      <td>1</td>\n",
       "    </tr>\n",
       "    <tr>\n",
       "      <th>1</th>\n",
       "      <td>1266.846531</td>\n",
       "      <td>11.826299</td>\n",
       "      <td>0.807538</td>\n",
       "      <td>0.365931</td>\n",
       "      <td>0.604923</td>\n",
       "      <td>0.715535</td>\n",
       "      <td>1.611</td>\n",
       "      <td>5870.977</td>\n",
       "      <td>7759.470</td>\n",
       "      <td>15719.644</td>\n",
       "      <td>23.033</td>\n",
       "      <td>1</td>\n",
       "    </tr>\n",
       "    <tr>\n",
       "      <th>2</th>\n",
       "      <td>1029.659424</td>\n",
       "      <td>10.246641</td>\n",
       "      <td>0.830054</td>\n",
       "      <td>0.443281</td>\n",
       "      <td>0.665793</td>\n",
       "      <td>0.681310</td>\n",
       "      <td>1.743</td>\n",
       "      <td>7440.006</td>\n",
       "      <td>8320.351</td>\n",
       "      <td>16857.419</td>\n",
       "      <td>21.516</td>\n",
       "      <td>1</td>\n",
       "    </tr>\n",
       "    <tr>\n",
       "      <th>3</th>\n",
       "      <td>983.164949</td>\n",
       "      <td>9.845900</td>\n",
       "      <td>0.835705</td>\n",
       "      <td>0.453394</td>\n",
       "      <td>0.673345</td>\n",
       "      <td>0.685854</td>\n",
       "      <td>1.717</td>\n",
       "      <td>7771.060</td>\n",
       "      <td>8569.443</td>\n",
       "      <td>16014.342</td>\n",
       "      <td>20.925</td>\n",
       "      <td>1</td>\n",
       "    </tr>\n",
       "    <tr>\n",
       "      <th>4</th>\n",
       "      <td>919.637582</td>\n",
       "      <td>9.422576</td>\n",
       "      <td>0.839422</td>\n",
       "      <td>0.463695</td>\n",
       "      <td>0.680952</td>\n",
       "      <td>0.694344</td>\n",
       "      <td>1.710</td>\n",
       "      <td>8207.277</td>\n",
       "      <td>8896.347</td>\n",
       "      <td>15309.346</td>\n",
       "      <td>20.185</td>\n",
       "      <td>1</td>\n",
       "    </tr>\n",
       "  </tbody>\n",
       "</table>\n",
       "</div>"
      ],
      "text/plain": [
       "      contrast  dissimilarity  homogeneity       ASM    energy  correlation  \\\n",
       "0  1288.867496      12.202771     0.799151  0.361724  0.601435     0.718118   \n",
       "1  1266.846531      11.826299     0.807538  0.365931  0.604923     0.715535   \n",
       "2  1029.659424      10.246641     0.830054  0.443281  0.665793     0.681310   \n",
       "3   983.164949       9.845900     0.835705  0.453394  0.673345     0.685854   \n",
       "4   919.637582       9.422576     0.839422  0.463695  0.680952     0.694344   \n",
       "\n",
       "     SRE       LRE       GLU        RLU     RPC  class  \n",
       "0  1.630  5629.021  7530.316  16462.360  23.716      1  \n",
       "1  1.611  5870.977  7759.470  15719.644  23.033      1  \n",
       "2  1.743  7440.006  8320.351  16857.419  21.516      1  \n",
       "3  1.717  7771.060  8569.443  16014.342  20.925      1  \n",
       "4  1.710  8207.277  8896.347  15309.346  20.185      1  "
      ]
     },
     "execution_count": 3,
     "metadata": {},
     "output_type": "execute_result"
    }
   ],
   "source": [
    "#Conjunto de dados de EM\n",
    "EM_data = pd.read_csv('EM_metrics_mask.csv', index_col=0)\n",
    "EM_data['class'] = 1\n",
    "EM_data.head()"
   ]
  },
  {
   "cell_type": "markdown",
   "id": "1aaa592f",
   "metadata": {},
   "source": [
    "### Conjunto de dados AVC"
   ]
  },
  {
   "cell_type": "code",
   "execution_count": 4,
   "id": "7a5939dd",
   "metadata": {},
   "outputs": [
    {
     "data": {
      "text/html": [
       "<div>\n",
       "<style scoped>\n",
       "    .dataframe tbody tr th:only-of-type {\n",
       "        vertical-align: middle;\n",
       "    }\n",
       "\n",
       "    .dataframe tbody tr th {\n",
       "        vertical-align: top;\n",
       "    }\n",
       "\n",
       "    .dataframe thead th {\n",
       "        text-align: right;\n",
       "    }\n",
       "</style>\n",
       "<table border=\"1\" class=\"dataframe\">\n",
       "  <thead>\n",
       "    <tr style=\"text-align: right;\">\n",
       "      <th></th>\n",
       "      <th>contrast</th>\n",
       "      <th>dissimilarity</th>\n",
       "      <th>homogeneity</th>\n",
       "      <th>ASM</th>\n",
       "      <th>energy</th>\n",
       "      <th>correlation</th>\n",
       "      <th>SRE</th>\n",
       "      <th>LRE</th>\n",
       "      <th>GLU</th>\n",
       "      <th>RLU</th>\n",
       "      <th>RPC</th>\n",
       "      <th>class</th>\n",
       "    </tr>\n",
       "  </thead>\n",
       "  <tbody>\n",
       "    <tr>\n",
       "      <th>0</th>\n",
       "      <td>1625.604039</td>\n",
       "      <td>19.820663</td>\n",
       "      <td>0.636765</td>\n",
       "      <td>0.207224</td>\n",
       "      <td>0.455219</td>\n",
       "      <td>0.883667</td>\n",
       "      <td>1.689</td>\n",
       "      <td>1798.881</td>\n",
       "      <td>3501.078</td>\n",
       "      <td>28358.894</td>\n",
       "      <td>39.208</td>\n",
       "      <td>0</td>\n",
       "    </tr>\n",
       "    <tr>\n",
       "      <th>1</th>\n",
       "      <td>1553.799974</td>\n",
       "      <td>19.881742</td>\n",
       "      <td>0.631335</td>\n",
       "      <td>0.211914</td>\n",
       "      <td>0.460341</td>\n",
       "      <td>0.892043</td>\n",
       "      <td>1.691</td>\n",
       "      <td>1833.233</td>\n",
       "      <td>3492.157</td>\n",
       "      <td>28625.825</td>\n",
       "      <td>39.316</td>\n",
       "      <td>0</td>\n",
       "    </tr>\n",
       "    <tr>\n",
       "      <th>2</th>\n",
       "      <td>1329.088520</td>\n",
       "      <td>18.463883</td>\n",
       "      <td>0.642487</td>\n",
       "      <td>0.224320</td>\n",
       "      <td>0.473625</td>\n",
       "      <td>0.905728</td>\n",
       "      <td>1.626</td>\n",
       "      <td>2016.729</td>\n",
       "      <td>3647.280</td>\n",
       "      <td>26321.974</td>\n",
       "      <td>37.666</td>\n",
       "      <td>0</td>\n",
       "    </tr>\n",
       "    <tr>\n",
       "      <th>3</th>\n",
       "      <td>1146.232647</td>\n",
       "      <td>16.944070</td>\n",
       "      <td>0.659995</td>\n",
       "      <td>0.242467</td>\n",
       "      <td>0.492409</td>\n",
       "      <td>0.912077</td>\n",
       "      <td>1.551</td>\n",
       "      <td>2338.977</td>\n",
       "      <td>3928.393</td>\n",
       "      <td>23145.349</td>\n",
       "      <td>34.988</td>\n",
       "      <td>0</td>\n",
       "    </tr>\n",
       "    <tr>\n",
       "      <th>4</th>\n",
       "      <td>1002.614520</td>\n",
       "      <td>16.302926</td>\n",
       "      <td>0.646247</td>\n",
       "      <td>0.193333</td>\n",
       "      <td>0.439696</td>\n",
       "      <td>0.903753</td>\n",
       "      <td>1.450</td>\n",
       "      <td>1876.947</td>\n",
       "      <td>3869.643</td>\n",
       "      <td>21385.778</td>\n",
       "      <td>35.493</td>\n",
       "      <td>0</td>\n",
       "    </tr>\n",
       "  </tbody>\n",
       "</table>\n",
       "</div>"
      ],
      "text/plain": [
       "      contrast  dissimilarity  homogeneity       ASM    energy  correlation  \\\n",
       "0  1625.604039      19.820663     0.636765  0.207224  0.455219     0.883667   \n",
       "1  1553.799974      19.881742     0.631335  0.211914  0.460341     0.892043   \n",
       "2  1329.088520      18.463883     0.642487  0.224320  0.473625     0.905728   \n",
       "3  1146.232647      16.944070     0.659995  0.242467  0.492409     0.912077   \n",
       "4  1002.614520      16.302926     0.646247  0.193333  0.439696     0.903753   \n",
       "\n",
       "     SRE       LRE       GLU        RLU     RPC  class  \n",
       "0  1.689  1798.881  3501.078  28358.894  39.208      0  \n",
       "1  1.691  1833.233  3492.157  28625.825  39.316      0  \n",
       "2  1.626  2016.729  3647.280  26321.974  37.666      0  \n",
       "3  1.551  2338.977  3928.393  23145.349  34.988      0  \n",
       "4  1.450  1876.947  3869.643  21385.778  35.493      0  "
      ]
     },
     "execution_count": 4,
     "metadata": {},
     "output_type": "execute_result"
    }
   ],
   "source": [
    "#Conjunto de dados com AVC\n",
    "AVC_data = pd.read_csv('AVC_metrics_mask.csv', index_col=0)\n",
    "AVC_data.head()"
   ]
  },
  {
   "cell_type": "code",
   "execution_count": null,
   "id": "8dec2bfd",
   "metadata": {},
   "outputs": [],
   "source": []
  },
  {
   "cell_type": "markdown",
   "id": "737de181",
   "metadata": {},
   "source": [
    "### Unindo conjunto de dados"
   ]
  },
  {
   "cell_type": "markdown",
   "id": "fc5c0e1c",
   "metadata": {},
   "source": [
    "Os dados são após lidos são unidos em um único conjunto de dados *DataFrame* contendo $1048$ amostras com $11$ características extraídas (*features*) e a classe de cada amostra.\n",
    "<br>\n",
    "<br>\n",
    "A normalização dos dados foi realizada após a unificação, para que a escala possa representar ambas as classes e não ficar somente focada em uma (normalizar os dados após a unificação apresentou ganho de 1% em acurácia nos dados de validação)."
   ]
  },
  {
   "cell_type": "code",
   "execution_count": 5,
   "id": "8b9f01e8",
   "metadata": {},
   "outputs": [],
   "source": [
    "#Dados de ambas as classes\n",
    "df_both_class = pd.concat([EM_data, AVC_data])"
   ]
  },
  {
   "cell_type": "code",
   "execution_count": 6,
   "id": "cbd58e48",
   "metadata": {},
   "outputs": [],
   "source": [
    "#Normalizando os dados unidos\n",
    "df_both_class = normalize_df(df_both_class)"
   ]
  },
  {
   "cell_type": "code",
   "execution_count": 7,
   "id": "eef31140",
   "metadata": {},
   "outputs": [],
   "source": [
    "#Separando os valores em X e y para criar treino e validação\n",
    "\n",
    "#Treinamento\n",
    "X = df_both_class.iloc[:,:-1]\n",
    "\n",
    "#Rótulos\n",
    "y = df_both_class.iloc[:,-1:].values.ravel()"
   ]
  },
  {
   "cell_type": "code",
   "execution_count": null,
   "id": "ba244bde",
   "metadata": {},
   "outputs": [],
   "source": []
  },
  {
   "cell_type": "markdown",
   "id": "349d74cf",
   "metadata": {},
   "source": [
    "## Preparando os dados"
   ]
  },
  {
   "cell_type": "markdown",
   "id": "edfb4719",
   "metadata": {},
   "source": [
    "Os dados foram separados em conjunto de treinamento e validação em uma proporção de 70/30, assim 70% dos dados foram alocados para serem utilizadas para treinar a nosso classificador baseado em SVM, enquanto 30% foi utilizado para validar a capacidade de generalização do modelo.\n",
    "<br>\n",
    "<br>\n",
    "Para que o conjunto gerado seja sempre o mesmo foi utilizado uma semente fixa de 2022, garantindo a replicabilidade do experimento, outro ponto a se atentar é a estratificação dos conjuntos, assim tornando a distribuição das amostras positivas e negativas (AVC e EM) igualitária entre treino e validação."
   ]
  },
  {
   "cell_type": "code",
   "execution_count": 8,
   "id": "dd723c48",
   "metadata": {},
   "outputs": [],
   "source": [
    "X_train, X_test, y_train, y_test = train_test_split(X, y, test_size=0.70, random_state=2022,stratify=y)"
   ]
  },
  {
   "cell_type": "code",
   "execution_count": 9,
   "id": "2bc45d23",
   "metadata": {},
   "outputs": [],
   "source": [
    "import warnings\n",
    "warnings.filterwarnings('always')"
   ]
  },
  {
   "cell_type": "markdown",
   "id": "55f1c617",
   "metadata": {},
   "source": [
    "## Preparando o modelo"
   ]
  },
  {
   "cell_type": "markdown",
   "id": "2e88ca0e",
   "metadata": {},
   "source": [
    "Visando gerar um modelo robusto foi realizado a otimização dos parâmetros de treinamento através da técnica de busca em grande (*Grid Search*), essa técnica treina o modelo com diversas combinações de parâmetros e seleciona aqueles que apresentaram uma qualidade melhor (conforme o teste com a métrica selecionada).\n",
    "<br>\n",
    "<br>\n",
    "Nosso modelo durante o treinamento foi avaliado através da sua precisão, revocação e acurácia balanceada, junto do método *classification_report* que permite uma visualização direta desses valores ao final do treinamento, além da evolução da qualidade conforme os parâmetros foram testados."
   ]
  },
  {
   "cell_type": "code",
   "execution_count": 10,
   "id": "e6e90473",
   "metadata": {},
   "outputs": [],
   "source": [
    "from sklearn.model_selection import GridSearchCV\n",
    "from sklearn.metrics import classification_report"
   ]
  },
  {
   "cell_type": "code",
   "execution_count": 11,
   "id": "96c2fb28",
   "metadata": {},
   "outputs": [],
   "source": [
    "tuned_parameters = [\n",
    "    {\"kernel\": [\"rbf\"], \"gamma\": [1e-3, 1e-4], \"C\": [1, 10, 100, 1000]},\n",
    "    {\"kernel\": [\"linear\"], \"gamma\": [1e-3, 1e-4], \"C\": [1, 10, 100, 1000]},\n",
    "]"
   ]
  },
  {
   "cell_type": "code",
   "execution_count": 12,
   "id": "a67f0438",
   "metadata": {},
   "outputs": [],
   "source": [
    "scores = [\"precision\", \"recall\", \"balanced_accuracy\"]"
   ]
  },
  {
   "cell_type": "code",
   "execution_count": null,
   "id": "42f01f60",
   "metadata": {},
   "outputs": [],
   "source": []
  },
  {
   "cell_type": "markdown",
   "id": "56bbda2b",
   "metadata": {},
   "source": [
    "## Treinando"
   ]
  },
  {
   "cell_type": "markdown",
   "id": "2a46c455",
   "metadata": {},
   "source": [
    "O treinamento basicamente ocorre uma vez para cada método de avaliação definido na lista *scores* e através do *GridSearch* busca a melhor configuração dos parâmetros para o SVM, ao final do treinamento o resultado é apresentado para cada um dos *scores* demonstrando a qualidade por interação do *GridSeach*.\n",
    "<br>\n",
    "<br>\n",
    "Como resultado do treinamento algumas combinações apresentaram 100% de acurácia (ou outra métrica que estava sendo utilizada na interação) no conjunto de treino, mostrando assim que é possível separar os conjuntos através de uma representação linear (considerando que durante o ajuste fino dos parâmetros foi selecionado o *Kernel* linear)."
   ]
  },
  {
   "cell_type": "code",
   "execution_count": 13,
   "id": "0c487cf2",
   "metadata": {},
   "outputs": [
    {
     "name": "stdout",
     "output_type": "stream",
     "text": [
      "# Tuning hyper-parameters for precision\n",
      "\n",
      "Best parameters set found on development set:\n",
      "\n",
      "{'C': 1, 'gamma': 0.001, 'kernel': 'linear'}\n",
      "\n",
      "Grid scores on development set:\n",
      "\n",
      "0.513 (+/-0.013) for {'C': 1, 'gamma': 0.001, 'kernel': 'rbf'}\n",
      "0.513 (+/-0.013) for {'C': 1, 'gamma': 0.0001, 'kernel': 'rbf'}\n",
      "0.959 (+/-0.047) for {'C': 10, 'gamma': 0.001, 'kernel': 'rbf'}\n",
      "0.513 (+/-0.013) for {'C': 10, 'gamma': 0.0001, 'kernel': 'rbf'}\n",
      "0.994 (+/-0.024) for {'C': 100, 'gamma': 0.001, 'kernel': 'rbf'}\n",
      "0.959 (+/-0.047) for {'C': 100, 'gamma': 0.0001, 'kernel': 'rbf'}\n",
      "0.994 (+/-0.024) for {'C': 1000, 'gamma': 0.001, 'kernel': 'rbf'}\n",
      "0.994 (+/-0.024) for {'C': 1000, 'gamma': 0.0001, 'kernel': 'rbf'}\n",
      "1.000 (+/-0.000) for {'C': 1, 'gamma': 0.001, 'kernel': 'linear'}\n",
      "1.000 (+/-0.000) for {'C': 1, 'gamma': 0.0001, 'kernel': 'linear'}\n",
      "1.000 (+/-0.000) for {'C': 10, 'gamma': 0.001, 'kernel': 'linear'}\n",
      "1.000 (+/-0.000) for {'C': 10, 'gamma': 0.0001, 'kernel': 'linear'}\n",
      "1.000 (+/-0.000) for {'C': 100, 'gamma': 0.001, 'kernel': 'linear'}\n",
      "1.000 (+/-0.000) for {'C': 100, 'gamma': 0.0001, 'kernel': 'linear'}\n",
      "1.000 (+/-0.000) for {'C': 1000, 'gamma': 0.001, 'kernel': 'linear'}\n",
      "1.000 (+/-0.000) for {'C': 1000, 'gamma': 0.0001, 'kernel': 'linear'}\n",
      "\n",
      "Detailed classification report:\n",
      "\n",
      "The model is trained on the full development set.\n",
      "The scores are computed on the full evaluation set.\n",
      "\n",
      "              precision    recall  f1-score   support\n",
      "\n",
      "         0.0       1.00      1.00      1.00       358\n",
      "         1.0       1.00      1.00      1.00       376\n",
      "\n",
      "    accuracy                           1.00       734\n",
      "   macro avg       1.00      1.00      1.00       734\n",
      "weighted avg       1.00      1.00      1.00       734\n",
      "\n",
      "\n",
      "# Tuning hyper-parameters for recall\n",
      "\n",
      "Best parameters set found on development set:\n",
      "\n",
      "{'C': 1, 'gamma': 0.001, 'kernel': 'rbf'}\n",
      "\n",
      "Grid scores on development set:\n",
      "\n",
      "1.000 (+/-0.000) for {'C': 1, 'gamma': 0.001, 'kernel': 'rbf'}\n",
      "1.000 (+/-0.000) for {'C': 1, 'gamma': 0.0001, 'kernel': 'rbf'}\n",
      "1.000 (+/-0.000) for {'C': 10, 'gamma': 0.001, 'kernel': 'rbf'}\n",
      "1.000 (+/-0.000) for {'C': 10, 'gamma': 0.0001, 'kernel': 'rbf'}\n",
      "0.994 (+/-0.025) for {'C': 100, 'gamma': 0.001, 'kernel': 'rbf'}\n",
      "1.000 (+/-0.000) for {'C': 100, 'gamma': 0.0001, 'kernel': 'rbf'}\n",
      "1.000 (+/-0.000) for {'C': 1000, 'gamma': 0.001, 'kernel': 'rbf'}\n",
      "0.994 (+/-0.025) for {'C': 1000, 'gamma': 0.0001, 'kernel': 'rbf'}\n",
      "1.000 (+/-0.000) for {'C': 1, 'gamma': 0.001, 'kernel': 'linear'}\n",
      "1.000 (+/-0.000) for {'C': 1, 'gamma': 0.0001, 'kernel': 'linear'}\n",
      "1.000 (+/-0.000) for {'C': 10, 'gamma': 0.001, 'kernel': 'linear'}\n",
      "1.000 (+/-0.000) for {'C': 10, 'gamma': 0.0001, 'kernel': 'linear'}\n",
      "1.000 (+/-0.000) for {'C': 100, 'gamma': 0.001, 'kernel': 'linear'}\n",
      "1.000 (+/-0.000) for {'C': 100, 'gamma': 0.0001, 'kernel': 'linear'}\n",
      "1.000 (+/-0.000) for {'C': 1000, 'gamma': 0.001, 'kernel': 'linear'}\n",
      "1.000 (+/-0.000) for {'C': 1000, 'gamma': 0.0001, 'kernel': 'linear'}\n",
      "\n",
      "Detailed classification report:\n",
      "\n",
      "The model is trained on the full development set.\n",
      "The scores are computed on the full evaluation set.\n",
      "\n",
      "              precision    recall  f1-score   support\n",
      "\n",
      "         0.0       0.00      0.00      0.00       358\n",
      "         1.0       0.51      1.00      0.68       376\n",
      "\n",
      "    accuracy                           0.51       734\n",
      "   macro avg       0.26      0.50      0.34       734\n",
      "weighted avg       0.26      0.51      0.35       734\n",
      "\n",
      "\n",
      "# Tuning hyper-parameters for balanced_accuracy\n",
      "\n"
     ]
    },
    {
     "name": "stderr",
     "output_type": "stream",
     "text": [
      "C:\\Users\\stiva\\.conda\\envs\\mo826\\lib\\site-packages\\sklearn\\metrics\\_classification.py:1327: UndefinedMetricWarning: Precision and F-score are ill-defined and being set to 0.0 in labels with no predicted samples. Use `zero_division` parameter to control this behavior.\n",
      "  _warn_prf(average, modifier, msg_start, len(result))\n",
      "C:\\Users\\stiva\\.conda\\envs\\mo826\\lib\\site-packages\\sklearn\\metrics\\_classification.py:1327: UndefinedMetricWarning: Precision and F-score are ill-defined and being set to 0.0 in labels with no predicted samples. Use `zero_division` parameter to control this behavior.\n",
      "  _warn_prf(average, modifier, msg_start, len(result))\n",
      "C:\\Users\\stiva\\.conda\\envs\\mo826\\lib\\site-packages\\sklearn\\metrics\\_classification.py:1327: UndefinedMetricWarning: Precision and F-score are ill-defined and being set to 0.0 in labels with no predicted samples. Use `zero_division` parameter to control this behavior.\n",
      "  _warn_prf(average, modifier, msg_start, len(result))\n"
     ]
    },
    {
     "name": "stdout",
     "output_type": "stream",
     "text": [
      "Best parameters set found on development set:\n",
      "\n",
      "{'C': 1, 'gamma': 0.001, 'kernel': 'linear'}\n",
      "\n",
      "Grid scores on development set:\n",
      "\n",
      "0.500 (+/-0.000) for {'C': 1, 'gamma': 0.001, 'kernel': 'rbf'}\n",
      "0.500 (+/-0.000) for {'C': 1, 'gamma': 0.0001, 'kernel': 'rbf'}\n",
      "0.977 (+/-0.026) for {'C': 10, 'gamma': 0.001, 'kernel': 'rbf'}\n",
      "0.500 (+/-0.000) for {'C': 10, 'gamma': 0.0001, 'kernel': 'rbf'}\n",
      "0.994 (+/-0.016) for {'C': 100, 'gamma': 0.001, 'kernel': 'rbf'}\n",
      "0.977 (+/-0.026) for {'C': 100, 'gamma': 0.0001, 'kernel': 'rbf'}\n",
      "0.997 (+/-0.013) for {'C': 1000, 'gamma': 0.001, 'kernel': 'rbf'}\n",
      "0.994 (+/-0.016) for {'C': 1000, 'gamma': 0.0001, 'kernel': 'rbf'}\n",
      "1.000 (+/-0.000) for {'C': 1, 'gamma': 0.001, 'kernel': 'linear'}\n",
      "1.000 (+/-0.000) for {'C': 1, 'gamma': 0.0001, 'kernel': 'linear'}\n",
      "1.000 (+/-0.000) for {'C': 10, 'gamma': 0.001, 'kernel': 'linear'}\n",
      "1.000 (+/-0.000) for {'C': 10, 'gamma': 0.0001, 'kernel': 'linear'}\n",
      "1.000 (+/-0.000) for {'C': 100, 'gamma': 0.001, 'kernel': 'linear'}\n",
      "1.000 (+/-0.000) for {'C': 100, 'gamma': 0.0001, 'kernel': 'linear'}\n",
      "1.000 (+/-0.000) for {'C': 1000, 'gamma': 0.001, 'kernel': 'linear'}\n",
      "1.000 (+/-0.000) for {'C': 1000, 'gamma': 0.0001, 'kernel': 'linear'}\n",
      "\n",
      "Detailed classification report:\n",
      "\n",
      "The model is trained on the full development set.\n",
      "The scores are computed on the full evaluation set.\n",
      "\n",
      "              precision    recall  f1-score   support\n",
      "\n",
      "         0.0       1.00      1.00      1.00       358\n",
      "         1.0       1.00      1.00      1.00       376\n",
      "\n",
      "    accuracy                           1.00       734\n",
      "   macro avg       1.00      1.00      1.00       734\n",
      "weighted avg       1.00      1.00      1.00       734\n",
      "\n",
      "\n"
     ]
    }
   ],
   "source": [
    "#Exemplo de fine tunning obtido do tutorial do SKlearn para finetunning\n",
    "\n",
    "for score in scores:\n",
    "    print(\"# Tuning hyper-parameters for %s\" % score)\n",
    "    print()\n",
    "\n",
    "    clf = GridSearchCV(SVC(), tuned_parameters, scoring=score)\n",
    "    clf.fit(X_train, y_train)\n",
    "\n",
    "    print(\"Best parameters set found on development set:\")\n",
    "    print()\n",
    "    print(clf.best_params_)\n",
    "    print()\n",
    "    print(\"Grid scores on development set:\")\n",
    "    print()\n",
    "    means = clf.cv_results_[\"mean_test_score\"]\n",
    "    stds = clf.cv_results_[\"std_test_score\"]\n",
    "    \n",
    "    for mean, std, params in zip(means, stds, clf.cv_results_[\"params\"]):\n",
    "        print(\"%0.3f (+/-%0.03f) for %r\" % (mean, std * 2, params))\n",
    "    print()\n",
    "\n",
    "    print(\"Detailed classification report:\")\n",
    "    print()\n",
    "    print(\"The model is trained on the full development set.\")\n",
    "    print(\"The scores are computed on the full evaluation set.\")\n",
    "    print()\n",
    "    y_true, y_pred = y_test, clf.predict(X_test)\n",
    "    print(classification_report(y_true, y_pred))\n",
    "    print()"
   ]
  },
  {
   "cell_type": "code",
   "execution_count": null,
   "id": "e87927e7",
   "metadata": {},
   "outputs": [],
   "source": []
  },
  {
   "cell_type": "markdown",
   "id": "52c77a41",
   "metadata": {},
   "source": [
    "## Testando qualidade com a validação"
   ]
  },
  {
   "cell_type": "markdown",
   "id": "4e667c70",
   "metadata": {},
   "source": [
    "Em posse do modelo treinado foi obtida a matriz de confusão e a acurácia balanceada do classificador, os resultados foram bem promissores com os dados de validação com uma acurácia de 99% e errando somente 1 amostra de validação."
   ]
  },
  {
   "cell_type": "code",
   "execution_count": 14,
   "id": "02778af5",
   "metadata": {},
   "outputs": [],
   "source": [
    "from sklearn.metrics import balanced_accuracy_score\n",
    "from sklearn.metrics import confusion_matrix"
   ]
  },
  {
   "cell_type": "code",
   "execution_count": 15,
   "id": "7b205366",
   "metadata": {},
   "outputs": [],
   "source": [
    "y_pred = clf.predict(X_test)"
   ]
  },
  {
   "cell_type": "code",
   "execution_count": 16,
   "id": "9208e6e5",
   "metadata": {},
   "outputs": [
    {
     "data": {
      "text/plain": [
       "0.9986033519553073"
      ]
     },
     "execution_count": 16,
     "metadata": {},
     "output_type": "execute_result"
    }
   ],
   "source": [
    "#Acurácia balanceada para os dados de validação\n",
    "balanced_accuracy_score(y_test, y_pred)"
   ]
  },
  {
   "cell_type": "code",
   "execution_count": 17,
   "id": "cb669367",
   "metadata": {},
   "outputs": [],
   "source": [
    "tn, fp, fn, tp = confusion_matrix(y_test, y_pred).ravel()"
   ]
  },
  {
   "cell_type": "code",
   "execution_count": 18,
   "id": "67a0f39a",
   "metadata": {},
   "outputs": [
    {
     "name": "stdout",
     "output_type": "stream",
     "text": [
      "Verdadeiro Negativo: 357 \n",
      "Falso Negativo: 1\n",
      "Falso Positivo: 0\n",
      "Verdadeiro Positivo: 376\n"
     ]
    }
   ],
   "source": [
    "#Matriz de confusão:\n",
    "tn, fp, fn, tp\n",
    "print(f\"Verdadeiro Negativo: {tn} \\nFalso Negativo: {fp}\\nFalso Positivo: {fn}\\nVerdadeiro Positivo: {tp}\")"
   ]
  }
 ],
 "metadata": {
  "kernelspec": {
   "display_name": "Python 3 (ipykernel)",
   "language": "python",
   "name": "python3"
  },
  "language_info": {
   "codemirror_mode": {
    "name": "ipython",
    "version": 3
   },
   "file_extension": ".py",
   "mimetype": "text/x-python",
   "name": "python",
   "nbconvert_exporter": "python",
   "pygments_lexer": "ipython3",
   "version": "3.10.4"
  }
 },
 "nbformat": 4,
 "nbformat_minor": 5
}
