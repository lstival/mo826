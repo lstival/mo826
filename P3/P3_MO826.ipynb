{
  "nbformat": 4,
  "nbformat_minor": 0,
  "metadata": {
    "colab": {
      "name": "P3_MO826.ipynb",
      "provenance": [],
      "collapsed_sections": [],
      "mount_file_id": "1jOeOuyQNAcsbjIRuu5q_Ud2kM4NEq-xM",
      "authorship_tag": "ABX9TyNRY2Y4ONgMWYb9uQYga0uy",
      "include_colab_link": true
    },
    "kernelspec": {
      "name": "python3",
      "display_name": "Python 3"
    },
    "language_info": {
      "name": "python"
    }
  },
  "cells": [
    {
      "cell_type": "markdown",
      "metadata": {
        "id": "view-in-github",
        "colab_type": "text"
      },
      "source": [
        "<a href=\"https://colab.research.google.com/github/lstival/mo826/blob/main/P3/P3_MO826.ipynb\" target=\"_parent\"><img src=\"https://colab.research.google.com/assets/colab-badge.svg\" alt=\"Open In Colab\"/></a>"
      ]
    },
    {
      "cell_type": "code",
      "execution_count": 1,
      "metadata": {
        "id": "gLBxicNOXByH"
      },
      "outputs": [],
      "source": [
        "#Importações padrões para manipulação de vetores e matrizes\n",
        "import numpy as np\n",
        "import pandas as pd\n",
        "\n",
        "#Biblioteca para visualizar gráficos\n",
        "import matplotlib.pyplot as plt\n",
        "\n",
        "#Bibliotecas para manipulação de grafos\n",
        "import networkx as nx\n",
        "from networkx.algorithms import bipartite"
      ]
    },
    {
      "cell_type": "markdown",
      "source": [
        "## Nature of Complex Network of Dengue Epidemic as a Scale-Free Network"
      ],
      "metadata": {
        "id": "Jn8UNkpI4_QG"
      }
    },
    {
      "cell_type": "code",
      "source": [
        "# filename = 'dengue_network.ini'\n",
        "# df = pd.read_csv(filename, sep=' ', header=None)"
      ],
      "metadata": {
        "id": "MrzgaOw2fkhn"
      },
      "execution_count": 2,
      "outputs": []
    },
    {
      "cell_type": "code",
      "source": [
        "# Vertices representando as localidades\n",
        "regios_nodes = ['GL18', 'GL27', 'HLL13', 'HLL36', 'HLL168', 'GL5', 'GL57', 'HLL63', 'HLL88', 'HLL52', 'GL1', 'GL28', 'HLL89', 'HLL18', 'HLL103', 'GL15', 'GL23', 'HLL129', 'HLL73', 'HLL148', 'GL39', 'GL21', 'HLL82', 'HLL141', 'HLL16', 'GL49', 'GL11', 'HLL139', 'HLL43', 'HLL28', 'GL34', 'GL19', 'HLL174', 'HLL142', 'HLL116', 'GL56', 'GL16', 'HLL34', 'HLL91', 'HLL132', 'GL40', 'GL52', 'HLL12', 'HLL97', 'HLL149', 'GL43', 'GL37', 'HLL75', 'HLL101', 'HLL167', 'GL24', 'GL10', 'HLL77', 'HLL45', 'HLL35', 'GL50', 'GL9', 'HLL152', 'HLL134', 'HLL110', 'GL13', 'GL53', 'HLL164', 'HLL138', 'HLL156', 'GL17', 'GL29', 'HLL166', 'HLL108', 'HLL172', 'GL12', 'GL2', 'HLL24', 'HLL115', 'HLL56', 'GL25', 'HLL130', 'HLL165', 'HLL21', 'HLL61', 'GL14', 'HLL64', 'HLL182', 'HLL31', 'HLL69', 'GL38', 'HLL84', 'HLL185', 'HLL68', 'HLL79', 'GL47', 'HLL117', 'HLL143', 'HLL74', 'HLL157', 'GL8', 'HLL161', 'HLL146', 'HLL114', 'HLL40', 'GL51', 'HLL46', 'HLL9', 'HLL136', 'HLL54', 'GL36', 'HLL60', 'HLL170', 'HLL17', 'HLL83', 'GL42', 'HLL87', 'HLL11', 'HLL29', 'HLL171', 'GL54', 'HLL44', 'HLL2', 'HLL41', 'HLL178', 'GL26', 'HLL184', 'HLL86', 'HLL55', 'HLL8', 'GL6', 'HLL15', 'HLL90', 'HLL153', 'HLL20', 'GL4', 'HLL85', 'HLL50', 'HLL98', 'HLL48', 'GL22', 'HLL158', 'HLL123', 'HLL1', 'HLL53', 'GL48', 'HLL65', 'HLL137', 'HLL113', 'HLL80', 'GL41', 'HLL120', 'HLL39', 'HLL121', 'HLL94', 'GL45', 'HLL72', 'HLL70', 'HLL133', 'HLL106', 'GL44', 'HLL151', 'HLL67', 'HLL147', 'HLL118', 'GL30', 'HLL183', 'HLL26', 'HLL154', 'HLL131', 'GL3', 'HLL127', 'HLL38', 'HLL181', 'HLL4', 'GL7', 'HLL59', 'HLL135', 'HLL105', 'HLL47', 'GL58', 'HLL145', 'HLL180', 'HLL144', 'HLL58', 'GL20', 'HLL150', 'HLL19', 'HLL7', 'HLL92', 'GL35', 'HLL14', 'HLL42', 'HLL30', 'HLL93', 'GL32', 'HLL175', 'HLL96', 'HLL51', 'HLL99', 'GL31', 'HLL76', 'HLL112', 'HLL57', 'HLL162', 'GL55', 'HLL25', 'HLL104', 'HLL78', 'HLL169', 'GL46', 'HLL10', 'HLL37', 'HLL126', 'HLL179', 'GL33', 'HLL49', 'HLL163', 'HLL159', 'HLL3', 'HLL5', 'PL158', 'PL208', 'PL10', 'PL49', 'HLL22', 'PL59', 'PL224', 'PL226', 'PL93', 'HLL23', 'PL26', 'PL68', 'PL40', 'PL129', 'HLL27', 'PL171', 'PL111', 'PL166', 'PL144', 'HLL66', 'PL174', 'PL95', 'PL75', 'PL113', 'HLL102', 'PL131', 'PL206', 'PL105', 'PL157', 'HLL107', 'PL79', 'PL3', 'PL27', 'PL183', 'HLL111', 'PL175', 'PL169', 'PL48', 'PL191', 'HLL119', 'PL179', 'PL53', 'PL112', 'PL214', 'HLL173', 'PL69', 'PL57', 'PL156', 'PL227', 'HLL33', 'PL18', 'PL145', 'PL73', 'PL12', 'HLL81', 'PL65', 'PL228', 'PL223', 'PL58', 'HLL100', 'PL87', 'PL118', 'PL6', 'PL155', 'HLL100', 'PL87', 'PL118', 'PL6', 'PL155', 'HLL124', 'PL178', 'PL89', 'PL25', 'PL187', 'HLL125', 'PL44', 'PL130', 'PL72', 'PL15', 'HLL128', 'PL82', 'PL115', 'PL20', 'PL241', 'HLL160', 'PL172', 'PL201', 'PL78', 'PL39', 'HLL176', 'PL193', 'PL203', 'PL81', 'PL164', 'HLL6', 'PL124', 'PL94', 'PL84', 'PL225', 'HLL32', 'PL1', 'PL121', 'PL108', 'PL123', 'HLL62', 'PL80', 'PL125', 'PL149', 'PL236', 'HLL71', 'PL139', 'PL135', 'PL163', 'PL41', 'HLL95', 'PL182', 'PL148', 'PL219', 'PL19', 'HLL109', 'PL66', 'PL216', 'PL220', 'PL192', 'HLL122', 'PL98', 'PL217', 'PL230', 'PL34', 'HLL140', 'PL46', 'PL212', 'PL9', 'PL7', 'HLL155', 'PL238', 'PL64', 'PL119', 'PL61', 'HLL177', 'PL51', 'PL211', 'PL143', 'PL85', 'PL126', 'PL186', 'PL2', 'PL159', 'PL207', 'PL31', 'PL52', 'PL104', 'PL160', 'PL154', 'PL134', 'PL184', 'PL215', 'PL177', 'PL162', 'PL127', 'PL204', 'PL234', 'PL188', 'PL197', 'PL137', 'PL63', 'PL237', 'PL198', 'PL202', 'PL54', 'PL106', 'PL43', 'PL213', 'PL209', 'PL128', 'PL222', 'PL47', 'PL218', 'PL8', 'PL200', 'PL50', 'PL55', 'PL239', 'PL42', 'PL114', 'PL185', 'PL221', 'PL242', 'PL150', 'PL138', 'PL102', 'PL232', 'PL29', 'PL161', 'PL33', 'PL152', 'PL233', 'PL30', 'PL190', 'PL17', 'PL100', 'PL122', 'PL35', 'PL195', 'PL173', 'PL99', 'PL146', 'PL56', 'PL210', 'PL132', 'PL14', 'PL77', 'PL62', 'PL133', 'PL32', 'PL110', 'PL71', 'PL147', 'PL91', 'PL153', 'PL86', 'PL141', 'PL97', 'PL194', 'PL90', 'PL189', 'PL5', 'PL235', 'PL116', 'PL196', 'PL67', 'PL21', 'PL117', 'PL22', 'PL120', 'PL38', 'PL142', 'PL23', 'PL229', 'PL70', 'PL168', 'PL136', 'PL167', 'PL83', 'PL205', 'PL92', 'PL37', 'PL103', 'PL231', 'PL4', 'PL74', 'PL151', 'PL24']"
      ],
      "metadata": {
        "id": "LsUnT_vgF3VG"
      },
      "execution_count": 3,
      "outputs": []
    },
    {
      "cell_type": "code",
      "source": [
        "# Numero de casos de cada região\n",
        "cases_nodes = [128, 8, 76, 28, 14, 111, 7, 74, 28, 13, 105, 7, 73, 27, 13, 85, 7, 71, 27, 13, 80, 7, 70, 27, 12, 79, 7, 70, 26, 12, 55, 6, 66, 25, 12, 53, 6, 60, 24, 12, 43, 5, 59, 24, 12, 41, 5, 54, 23, 12, 41, 5, 54, 22, 11, 40, 4, 53, 22, 11, 38, 4, 52, 21, 11, 35, 4, 52, 20, 11, 32, 4, 51, 20, 10, 31, 729, 51, 19, 10, 29, 435, 51, 19, 10, 27, 317, 50, 19, 10, 26, 251, 48, 19, 10, 23, 250, 46, 19, 9, 23, 237, 45, 19, 9, 23, 231, 45, 18, 9, 21, 228, 44, 18, 9, 16, 217, 43, 18, 9, 15, 194, 43, 18, 8, 14, 183, 42, 18, 8, 14, 179, 41, 17, 8, 14, 159, 41, 16, 8, 13, 149, 40, 16, 8, 13, 141, 39, 16, 8, 12, 122, 39, 16, 8, 12, 116, 38, 16, 8, 12, 113, 36, 16, 8, 12, 110, 36, 16, 7, 11, 103, 35, 15, 7, 11, 96, 34, 15, 7, 11, 96, 31, 14, 7, 10, 95, 31, 14, 7, 9, 95, 31, 14, 7, 9, 90, 31, 14, 7, 8, 83, 30, 14, 7, 8, 81, 29, 14, 7, 8, 79, 29, 14, 6, 6, 237, 65, 27, 13, 6, 227, 65, 27, 13, 6, 223, 63, 26, 13, 6, 206, 63, 26, 13, 6, 192, 61, 24, 12, 6, 181, 59, 24, 12, 6, 170, 55, 23, 12, 6, 166, 55, 23, 12, 6, 153, 49, 23, 12, 6, 150, 47, 23, 12, 5, 145, 46, 22, 11, 5, 136, 45, 22, 11, 5, 136, 44, 21, 11, 5, 136, 44, 21, 11, 5, 135, 43, 21, 11, 5, 130, 43, 21, 10, 5, 90, 20, 8, 5, 5, 89, 20, 8, 4, 5, 85, 20, 8, 103, 4, 83, 19, 8, 102, 4, 82, 19, 8, 100, 4, 82, 19, 8, 100, 4, 80, 19, 8, 98, 4, 79, 19, 8, 95, 4, 73, 19, 8, 30, 4, 72, 19, 8, 29, 4, 70, 18, 7, 28, 4, 70, 17, 7, 28, 4, 65, 17, 7, 21, 3107, 43, 16, 7, 21, 2826, 42, 16, 7, 9, 1174, 42, 16, 7, 9, 1022, 42, 16, 7, 9, 720, 41, 16, 7, 9, 548, 41, 15, 7, 9, 488, 40, 15, 7, 8, 434, 39, 15, 7, 5, 393, 39, 15, 7, 5, 345, 37, 15, 6, 5, 327, 37, 15, 6, 5, 298, 35, 14, 6, 5, 287, 34, 14, 6, 5, 282, 33, 10, 6, 275, 33, 10, 6, 114, 33, 10, 6, 113, 33, 10, 6, 113, 32, 10, 6, 110, 32, 9, 6, 109, 32, 9, 6, 109, 32, 9, 6, 109, 31, 9, 6, 107, 30, 9, 6, 104, 30, 9, 5]"
      ],
      "metadata": {
        "id": "QuZJZvjTGJSq"
      },
      "execution_count": 4,
      "outputs": []
    },
    {
      "cell_type": "code",
      "source": [
        "# Dataframe contendo as arestas do grafo\n",
        "df = pd.DataFrame()\n",
        "df['location'] = regios_nodes\n",
        "df['cases'] = cases_nodes\n",
        "df.head()"
      ],
      "metadata": {
        "colab": {
          "base_uri": "https://localhost:8080/",
          "height": 206
        },
        "id": "q9vXEjSP2mG3",
        "outputId": "0b2fcab7-f5b6-4b49-e8b1-b851718321cc"
      },
      "execution_count": 5,
      "outputs": [
        {
          "output_type": "execute_result",
          "data": {
            "text/plain": [
              "  location  cases\n",
              "0     GL18    128\n",
              "1     GL27      8\n",
              "2    HLL13     76\n",
              "3    HLL36     28\n",
              "4   HLL168     14"
            ],
            "text/html": [
              "\n",
              "  <div id=\"df-ce6d0c6b-e258-48ff-bf07-37f7e169f7da\">\n",
              "    <div class=\"colab-df-container\">\n",
              "      <div>\n",
              "<style scoped>\n",
              "    .dataframe tbody tr th:only-of-type {\n",
              "        vertical-align: middle;\n",
              "    }\n",
              "\n",
              "    .dataframe tbody tr th {\n",
              "        vertical-align: top;\n",
              "    }\n",
              "\n",
              "    .dataframe thead th {\n",
              "        text-align: right;\n",
              "    }\n",
              "</style>\n",
              "<table border=\"1\" class=\"dataframe\">\n",
              "  <thead>\n",
              "    <tr style=\"text-align: right;\">\n",
              "      <th></th>\n",
              "      <th>location</th>\n",
              "      <th>cases</th>\n",
              "    </tr>\n",
              "  </thead>\n",
              "  <tbody>\n",
              "    <tr>\n",
              "      <th>0</th>\n",
              "      <td>GL18</td>\n",
              "      <td>128</td>\n",
              "    </tr>\n",
              "    <tr>\n",
              "      <th>1</th>\n",
              "      <td>GL27</td>\n",
              "      <td>8</td>\n",
              "    </tr>\n",
              "    <tr>\n",
              "      <th>2</th>\n",
              "      <td>HLL13</td>\n",
              "      <td>76</td>\n",
              "    </tr>\n",
              "    <tr>\n",
              "      <th>3</th>\n",
              "      <td>HLL36</td>\n",
              "      <td>28</td>\n",
              "    </tr>\n",
              "    <tr>\n",
              "      <th>4</th>\n",
              "      <td>HLL168</td>\n",
              "      <td>14</td>\n",
              "    </tr>\n",
              "  </tbody>\n",
              "</table>\n",
              "</div>\n",
              "      <button class=\"colab-df-convert\" onclick=\"convertToInteractive('df-ce6d0c6b-e258-48ff-bf07-37f7e169f7da')\"\n",
              "              title=\"Convert this dataframe to an interactive table.\"\n",
              "              style=\"display:none;\">\n",
              "        \n",
              "  <svg xmlns=\"http://www.w3.org/2000/svg\" height=\"24px\"viewBox=\"0 0 24 24\"\n",
              "       width=\"24px\">\n",
              "    <path d=\"M0 0h24v24H0V0z\" fill=\"none\"/>\n",
              "    <path d=\"M18.56 5.44l.94 2.06.94-2.06 2.06-.94-2.06-.94-.94-2.06-.94 2.06-2.06.94zm-11 1L8.5 8.5l.94-2.06 2.06-.94-2.06-.94L8.5 2.5l-.94 2.06-2.06.94zm10 10l.94 2.06.94-2.06 2.06-.94-2.06-.94-.94-2.06-.94 2.06-2.06.94z\"/><path d=\"M17.41 7.96l-1.37-1.37c-.4-.4-.92-.59-1.43-.59-.52 0-1.04.2-1.43.59L10.3 9.45l-7.72 7.72c-.78.78-.78 2.05 0 2.83L4 21.41c.39.39.9.59 1.41.59.51 0 1.02-.2 1.41-.59l7.78-7.78 2.81-2.81c.8-.78.8-2.07 0-2.86zM5.41 20L4 18.59l7.72-7.72 1.47 1.35L5.41 20z\"/>\n",
              "  </svg>\n",
              "      </button>\n",
              "      \n",
              "  <style>\n",
              "    .colab-df-container {\n",
              "      display:flex;\n",
              "      flex-wrap:wrap;\n",
              "      gap: 12px;\n",
              "    }\n",
              "\n",
              "    .colab-df-convert {\n",
              "      background-color: #E8F0FE;\n",
              "      border: none;\n",
              "      border-radius: 50%;\n",
              "      cursor: pointer;\n",
              "      display: none;\n",
              "      fill: #1967D2;\n",
              "      height: 32px;\n",
              "      padding: 0 0 0 0;\n",
              "      width: 32px;\n",
              "    }\n",
              "\n",
              "    .colab-df-convert:hover {\n",
              "      background-color: #E2EBFA;\n",
              "      box-shadow: 0px 1px 2px rgba(60, 64, 67, 0.3), 0px 1px 3px 1px rgba(60, 64, 67, 0.15);\n",
              "      fill: #174EA6;\n",
              "    }\n",
              "\n",
              "    [theme=dark] .colab-df-convert {\n",
              "      background-color: #3B4455;\n",
              "      fill: #D2E3FC;\n",
              "    }\n",
              "\n",
              "    [theme=dark] .colab-df-convert:hover {\n",
              "      background-color: #434B5C;\n",
              "      box-shadow: 0px 1px 3px 1px rgba(0, 0, 0, 0.15);\n",
              "      filter: drop-shadow(0px 1px 2px rgba(0, 0, 0, 0.3));\n",
              "      fill: #FFFFFF;\n",
              "    }\n",
              "  </style>\n",
              "\n",
              "      <script>\n",
              "        const buttonEl =\n",
              "          document.querySelector('#df-ce6d0c6b-e258-48ff-bf07-37f7e169f7da button.colab-df-convert');\n",
              "        buttonEl.style.display =\n",
              "          google.colab.kernel.accessAllowed ? 'block' : 'none';\n",
              "\n",
              "        async function convertToInteractive(key) {\n",
              "          const element = document.querySelector('#df-ce6d0c6b-e258-48ff-bf07-37f7e169f7da');\n",
              "          const dataTable =\n",
              "            await google.colab.kernel.invokeFunction('convertToInteractive',\n",
              "                                                     [key], {});\n",
              "          if (!dataTable) return;\n",
              "\n",
              "          const docLinkHtml = 'Like what you see? Visit the ' +\n",
              "            '<a target=\"_blank\" href=https://colab.research.google.com/notebooks/data_table.ipynb>data table notebook</a>'\n",
              "            + ' to learn more about interactive tables.';\n",
              "          element.innerHTML = '';\n",
              "          dataTable['output_type'] = 'display_data';\n",
              "          await google.colab.output.renderOutput(dataTable, element);\n",
              "          const docLink = document.createElement('div');\n",
              "          docLink.innerHTML = docLinkHtml;\n",
              "          element.appendChild(docLink);\n",
              "        }\n",
              "      </script>\n",
              "    </div>\n",
              "  </div>\n",
              "  "
            ]
          },
          "metadata": {},
          "execution_count": 5
        }
      ]
    },
    {
      "cell_type": "markdown",
      "source": [
        "## Criando Grafo Bipartido"
      ],
      "metadata": {
        "id": "GvcE3wvX6McJ"
      }
    },
    {
      "cell_type": "code",
      "source": [
        "#Criando o grafo\n",
        "B = nx.Graph()"
      ],
      "metadata": {
        "id": "BidZj7B9GdZS"
      },
      "execution_count": 6,
      "outputs": []
    },
    {
      "cell_type": "code",
      "source": [
        "#Criando as opções bipartidas (0 para regiões e 1 para quantidade de casos)\n",
        "B.add_nodes_from(regios_nodes, bipartite=0)\n",
        "B.add_nodes_from(cases_nodes, bipartite=1)"
      ],
      "metadata": {
        "id": "Vr4a3RADGdcj"
      },
      "execution_count": 7,
      "outputs": []
    },
    {
      "cell_type": "code",
      "source": [
        "#Inserindo as arestas no grafo\n",
        "B.add_edges_from(df.values)"
      ],
      "metadata": {
        "id": "0eLoG5cjGdgT"
      },
      "execution_count": 8,
      "outputs": []
    },
    {
      "cell_type": "code",
      "source": [
        "#Verificando se o grafo é conexo, como o resultado é false\n",
        "#isso indica que existem partes da rede que não estão\n",
        "#conectadas com as demais\n",
        "nx.is_connected(B)"
      ],
      "metadata": {
        "colab": {
          "base_uri": "https://localhost:8080/"
        },
        "id": "SJQJ7zVsGdj7",
        "outputId": "b91fc3a9-1c4a-48f2-e3bf-e90727976a5e"
      },
      "execution_count": 9,
      "outputs": [
        {
          "output_type": "execute_result",
          "data": {
            "text/plain": [
              "False"
            ]
          },
          "metadata": {},
          "execution_count": 9
        }
      ]
    },
    {
      "cell_type": "code",
      "source": [
        ""
      ],
      "metadata": {
        "id": "_AxrOVP63IP8"
      },
      "execution_count": 9,
      "outputs": []
    },
    {
      "cell_type": "markdown",
      "source": [
        "## Projeções do Grafo Bipartido"
      ],
      "metadata": {
        "id": "lLfFC8Qd6xYA"
      }
    },
    {
      "cell_type": "code",
      "source": [
        "#Represetação G1 será o grafo contendo as regiões\n",
        "G1 = bipartite.projected_graph(B, regios_nodes)\n",
        "\n",
        "print(f\"O Grafo das regiões possui {G1.number_of_edges()} arestas e {G1.number_of_nodes()} vértices\")"
      ],
      "metadata": {
        "colab": {
          "base_uri": "https://localhost:8080/"
        },
        "id": "NWsNRtBN3JAR",
        "outputId": "9b03f290-422f-43dc-c308-367c8fa68221"
      },
      "execution_count": 10,
      "outputs": [
        {
          "output_type": "stream",
          "name": "stdout",
          "text": [
            "O Grafo das regiões possui 2188 arestas e 464 vértices\n"
          ]
        }
      ]
    },
    {
      "cell_type": "code",
      "source": [
        ""
      ],
      "metadata": {
        "id": "ORk49etr3JLB"
      },
      "execution_count": 10,
      "outputs": []
    },
    {
      "cell_type": "code",
      "source": [
        "#Represetação G1 será o grafo contendo a quantidade de casos\n",
        "G2 = bipartite.projected_graph(B, cases_nodes)\n",
        "\n",
        "print(f\"O Grafo das quantidades possui {G2.number_of_edges()} arestas e {G2.number_of_nodes()} vértices\")"
      ],
      "metadata": {
        "colab": {
          "base_uri": "https://localhost:8080/"
        },
        "id": "Q6P1CBsU3JT3",
        "outputId": "42454132-9e44-4bbd-f121-4f021802b333"
      },
      "execution_count": 11,
      "outputs": [
        {
          "output_type": "stream",
          "name": "stdout",
          "text": [
            "O Grafo das quantidades possui 0 arestas e 132 vértices\n"
          ]
        }
      ]
    },
    {
      "cell_type": "markdown",
      "source": [
        "## Power Law"
      ],
      "metadata": {
        "id": "YnsjEIrn7TrV"
      }
    },
    {
      "cell_type": "code",
      "source": [
        "#testar se a rede segue a power law"
      ],
      "metadata": {
        "id": "SbrWDzyn7Z_R"
      },
      "execution_count": 11,
      "outputs": []
    },
    {
      "cell_type": "code",
      "source": [
        ""
      ],
      "metadata": {
        "id": "lQZ2vLed7aJt"
      },
      "execution_count": 11,
      "outputs": []
    },
    {
      "cell_type": "code",
      "source": [
        ""
      ],
      "metadata": {
        "id": "QshlGVJB7aTh"
      },
      "execution_count": 11,
      "outputs": []
    },
    {
      "cell_type": "markdown",
      "source": [
        "## Coeficiente de clusterização"
      ],
      "metadata": {
        "id": "GeleMoPk7a3T"
      }
    },
    {
      "cell_type": "code",
      "source": [
        ""
      ],
      "metadata": {
        "id": "oDQmg90G7hf4"
      },
      "execution_count": 11,
      "outputs": []
    },
    {
      "cell_type": "code",
      "source": [
        ""
      ],
      "metadata": {
        "id": "aFpGB_JP7hqm"
      },
      "execution_count": 11,
      "outputs": []
    },
    {
      "cell_type": "code",
      "source": [
        ""
      ],
      "metadata": {
        "id": "kMz6BXlu7iUQ"
      },
      "execution_count": 11,
      "outputs": []
    }
  ]
}